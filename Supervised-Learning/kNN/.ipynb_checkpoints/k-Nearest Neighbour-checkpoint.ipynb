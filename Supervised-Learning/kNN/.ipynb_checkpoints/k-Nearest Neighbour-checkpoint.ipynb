{
 "cells": [
  {
   "cell_type": "code",
   "execution_count": 1,
   "metadata": {
    "code_folding": []
   },
   "outputs": [],
   "source": [
    "# Standard imports\n",
    "import numpy as np\n",
    "import matplotlib.pyplot as plt\n",
    "import scipy.stats as stats\n",
    "import math\n",
    "%matplotlib inline"
   ]
  },
  {
   "cell_type": "markdown",
   "metadata": {},
   "source": [
    "## 1.1 Compute Best K"
   ]
  },
  {
   "cell_type": "markdown",
   "metadata": {},
   "source": [
    "### 1.1.1 Data Preprocessing"
   ]
  },
  {
   "cell_type": "code",
   "execution_count": 11,
   "metadata": {},
   "outputs": [],
   "source": [
    "import gzip\n",
    "\n",
    "image_size = 28\n",
    "num_train = 50000\n",
    "num_test = 10000\n",
    "\n",
    "# read in training data\n",
    "# images\n",
    "f = gzip.open('train-images-idx3-ubyte.gz','r')\n",
    "f.read(16)\n",
    "buf = f.read(image_size * image_size * num_train)\n",
    "data = np.frombuffer(buf, dtype=np.uint8).astype(np.float32)\n",
    "X_train = data.reshape(num_train, -1)\n",
    "# labels\n",
    "f = gzip.open('train-labels-idx1-ubyte.gz','r')\n",
    "f.read(8)\n",
    "buf = f.read(num_train)\n",
    "y_train = np.frombuffer(buf, dtype=np.uint8).astype(np.int64)\n",
    "\n",
    "# read in testing data\n",
    "# images\n",
    "f = gzip.open('t10k-images-idx3-ubyte.gz','r')\n",
    "f.read(16)\n",
    "buf = f.read(image_size * image_size * num_test)\n",
    "data = np.frombuffer(buf, dtype=np.uint8).astype(np.float32)\n",
    "X_test = data.reshape(num_test, -1)\n",
    "# labels\n",
    "f = gzip.open('t10k-labels-idx1-ubyte.gz','r')\n",
    "f.read(8)\n",
    "buf = f.read(num_test)\n",
    "y_test = np.frombuffer(buf, dtype=np.uint8).astype(np.int64)"
   ]
  },
  {
   "cell_type": "code",
   "execution_count": 12,
   "metadata": {},
   "outputs": [
    {
     "data": {
      "image/png": "[encoded data removed]",
      "text/plain": [
       "<Figure size 1440x720 with 10 Axes>"
      ]
     },
     "metadata": {
      "needs_background": "light"
     },
     "output_type": "display_data"
    }
   ],
   "source": [
    "plt.figure(figsize=(20,10))\n",
    "for index, (image, label) in enumerate(zip(X_train[100:110], y_train[100:110])):\n",
    "    plt.subplot(2, 5, index + 1)\n",
    "    plt.imshow(image.reshape([28, 28])*255, cmap=plt.cm.gray) # we multiply 255 for de-normalization\n",
    "    plt.title('Label is %i\\n' % label, fontsize = 20)"
   ]
  },
  {
   "cell_type": "markdown",
   "metadata": {},
   "source": [
    "### 1.1.2 KNN implementation"
   ]
  },
  {
   "cell_type": "code",
   "execution_count": 13,
   "metadata": {},
   "outputs": [],
   "source": [
    "import numpy as np\n",
    "import multiprocessing\n",
    "from functools import partial\n",
    "from contextlib import contextmanager\n",
    "\n",
    "@contextmanager\n",
    "def poolcontext(*args, **kwargs):\n",
    "    pool = multiprocessing.Pool(*args, **kwargs)\n",
    "    yield pool\n",
    "    pool.terminate()\n",
    "\n",
    "# this is the worker\n",
    "def single_prediction(i, X, y, x, K=1, p=2, DEBUG = False):\n",
    "    '''\n",
    "        Inputs:\n",
    "            i: current index\n",
    "            X: A matrix of size N x F, which stores all the training data\n",
    "            y: A vector of size N, which stores all the training labels\n",
    "            x: A matrix of size M x F, which is the data we want to predict\n",
    "            K: Number of Nearest Neighbour\n",
    "            p: The power for distance metric\n",
    "        Output:\n",
    "            res: Predicted class\n",
    "    '''\n",
    "    # dist is vector of size N \n",
    "    dist = np.power( np.sum( np.power( np.abs( X-x[i] ), p), axis=1 ), 1./p)\n",
    "    # dist_mask is of size K\n",
    "    dist_mask = dist.argsort()[:K]\n",
    "    # labels is of size K\n",
    "    labels = y[dist_mask]\n",
    "    if DEBUG:\n",
    "        print(dist, dist_mask, labels)\n",
    "    return np.bincount(labels).argmax()"
   ]
  },
  {
   "cell_type": "code",
   "execution_count": 14,
   "metadata": {},
   "outputs": [],
   "source": [
    "def kNNPredict(X, y, x, K=1, p=2, DEBUG = False):\n",
    "    '''\n",
    "        Inputs:\n",
    "            X: A matrix of size N x F, which stores all the training data\n",
    "\n",
    "        Output:\n",
    "            res: A matrix of size M x N, whose ith row stores the distance vector for x[i] \n",
    "    '''\n",
    "    M = len(x)\n",
    "    if __name__ == '__main__':\n",
    "        with poolcontext(processes=16) as pool:\n",
    "            res = pool.map(partial(single_prediction, X=X, y=y, x=x, K=K, p=p, DEBUG = DEBUG), range(M))\n",
    "    return res"
   ]
  },
  {
   "cell_type": "code",
   "execution_count": 15,
   "metadata": {},
   "outputs": [],
   "source": [
    "def kNNTrain(X, y, X_val, y_val, K=1, p=2):\n",
    "    '''\n",
    "        kNNTrain will help finding the optimal K\n",
    "        Inputs:\n",
    "            X: Training features of size N x F\n",
    "            y: Training labels of size N\n",
    "            X_val: Validation features of size M x F\n",
    "            y_val: Validation labels of size M\n",
    "            K: The number of neighbours\n",
    "        Output:\n",
    "            res: Accurancy for validation set\n",
    "    '''\n",
    "    predictions = kNNPredict(X, y, X_val, K=K, p=p)\n",
    "    return np.float(np.sum(predictions == y_val)) / len(y_val)"
   ]
  },
  {
   "cell_type": "code",
   "execution_count": 16,
   "metadata": {},
   "outputs": [
    {
     "name": "stdout",
     "output_type": "stream",
     "text": [
      "[2.23606798 3.87298335 5.74456265 7.68114575] [0] [1]\n",
      "[2. 0. 2. 4.] [1] [1]\n",
      "[3.60555128 2.64575131 3.         4.35889894] [1] [1]\n",
      "[3.60555128 2.64575131 3.         4.35889894] [1 2] [1 2]\n",
      "[2.23606798 3.87298335 5.74456265 7.68114575] [0 1] [1 1]\n",
      "[2. 0. 2. 4.] [1 0] [1 1]\n"
     ]
    },
    {
     "data": {
      "text/plain": [
       "[1, 1, 1]"
      ]
     },
     "execution_count": 16,
     "metadata": {},
     "output_type": "execute_result"
    }
   ],
   "source": [
    "a = np.array([[1,2,3,4],[2,3,4,5],[3,4,5,6],[4,5,6,7]])\n",
    "b = np.array([1,1,2,3])\n",
    "c = np.array([[1,1,1,4],[3,4,2,6],[2,3,4,5]])\n",
    "kNNPredict(a,b,c, DEBUG=True)\n",
    "kNNPredict(a,b,c, K=2, DEBUG=True)"
   ]
  },
  {
   "cell_type": "markdown",
   "metadata": {},
   "source": [
    "### 1.1.3 KNN Training"
   ]
  },
  {
   "cell_type": "code",
   "execution_count": 17,
   "metadata": {},
   "outputs": [],
   "source": [
    "# 10-fold cross validation\n",
    "permutation = np.random.permutation(num_train)\n",
    "X_train, y_train = X_train[permutation], y_train[permutation]\n",
    "Ks = np.array([1,2,3,4,5,10,20,50,100,500])"
   ]
  },
  {
   "cell_type": "code",
   "execution_count": 18,
   "metadata": {},
   "outputs": [
    {
     "name": "stderr",
     "output_type": "stream",
     "text": [
      "UsageError: Line magic function `%%perl` not found.\n"
     ]
    }
   ],
   "source": [
    "########################## This cell won't be excecuted for reason below ##############################\n",
    "%%perl -eat\n",
    "\n",
    "Accuracies = []\n",
    "for k in Ks:\n",
    "    accuracy = []\n",
    "    step = int(num_train/10)\n",
    "    for fold in range(0, num_train, step):\n",
    "        mask = np.array([False] * num_train)\n",
    "        mask[fold:fold+step] = True\n",
    "        X = X_train[~mask]\n",
    "        y = y_train[~mask]\n",
    "        X_val = X_train[mask]\n",
    "        y_val = y_train[mask]\n",
    "\n",
    "        start_time = time.time()\n",
    "        score = kNNTrain(X, y, X_val, y_val, K=k)\n",
    "        elapsed_time = time.time() - start_time\n",
    "        print(\"k=%d, accuracy=%.2f%%, time=%.2f\" % (k, score*100, elapsed_time))\n",
    "        accuracy.append(score)\n",
    "    Accuracies.append(accuracy)\n",
    "\n",
    "Accuracies = np.array(Accuracies)\n",
    "np.savetxt(\"results.csv\", Accuracies, delimiter=\",\")"
   ]
  },
  {
   "cell_type": "markdown",
   "metadata": {},
   "source": [
    "## <span style=\"color:red\">Important Note: </span>\n",
    "### <span style=\"color:red\">Jupyter Notebook has VERY bad support for multiprocessing. Thus, I wrote a python script (kNN.py) that wraps everything above and we will run the script directly.</span>"
   ]
  },
  {
   "cell_type": "code",
   "execution_count": 1,
   "metadata": {
    "scrolled": true
   },
   "outputs": [
    {
     "name": "stdout",
     "output_type": "stream",
     "text": [
      "k=1, accuracy=97.42%, time=364.88\n",
      "k=1, accuracy=97.06%, time=415.88\n",
      "k=1, accuracy=97.20%, time=431.47\n",
      "k=1, accuracy=96.94%, time=408.49\n",
      "k=1, accuracy=97.00%, time=418.45\n",
      "k=1, accuracy=97.22%, time=407.43\n",
      "k=1, accuracy=96.82%, time=458.05\n",
      "k=1, accuracy=97.72%, time=454.65\n",
      "k=1, accuracy=96.72%, time=458.72\n",
      "k=1, accuracy=97.10%, time=458.76\n",
      "k=2, accuracy=96.72%, time=459.92\n",
      "k=2, accuracy=96.32%, time=467.15\n",
      "k=2, accuracy=96.38%, time=495.89\n",
      "k=2, accuracy=96.60%, time=455.83\n",
      "k=2, accuracy=96.48%, time=421.48\n",
      "k=2, accuracy=96.36%, time=417.23\n",
      "k=2, accuracy=96.36%, time=427.40\n",
      "k=2, accuracy=96.98%, time=417.88\n",
      "k=2, accuracy=95.68%, time=448.57\n",
      "k=2, accuracy=96.40%, time=402.80\n",
      "k=3, accuracy=97.28%, time=453.55\n",
      "k=3, accuracy=97.08%, time=398.50\n",
      "k=3, accuracy=97.00%, time=455.82\n",
      "k=3, accuracy=97.12%, time=391.70\n",
      "k=3, accuracy=97.34%, time=400.11\n",
      "k=3, accuracy=97.02%, time=384.79\n",
      "k=3, accuracy=96.78%, time=452.54\n",
      "k=3, accuracy=97.66%, time=407.01\n",
      "k=3, accuracy=96.42%, time=434.09\n",
      "k=3, accuracy=97.10%, time=384.02\n",
      "k=4, accuracy=97.32%, time=376.88\n",
      "k=4, accuracy=96.96%, time=370.06\n",
      "k=4, accuracy=96.86%, time=396.05\n",
      "k=4, accuracy=96.88%, time=378.48\n",
      "k=4, accuracy=96.80%, time=396.20\n",
      "k=4, accuracy=96.90%, time=516.60\n",
      "k=4, accuracy=96.52%, time=549.07\n",
      "k=4, accuracy=97.40%, time=513.14\n",
      "k=4, accuracy=96.44%, time=533.32\n",
      "k=4, accuracy=96.86%, time=511.92\n",
      "k=5, accuracy=97.28%, time=536.12\n",
      "k=5, accuracy=97.00%, time=522.41\n",
      "k=5, accuracy=96.92%, time=546.29\n",
      "k=5, accuracy=97.16%, time=515.73\n",
      "k=5, accuracy=96.94%, time=538.44\n",
      "k=5, accuracy=96.96%, time=513.33\n",
      "k=5, accuracy=96.34%, time=541.48\n",
      "k=5, accuracy=97.50%, time=520.61\n",
      "k=5, accuracy=96.66%, time=537.77\n",
      "k=5, accuracy=96.76%, time=516.41\n",
      "k=10, accuracy=96.78%, time=535.57\n",
      "k=10, accuracy=96.70%, time=516.32\n",
      "k=10, accuracy=96.36%, time=554.62\n",
      "k=10, accuracy=96.70%, time=416.07\n",
      "k=10, accuracy=96.18%, time=384.30\n",
      "k=10, accuracy=96.72%, time=368.90\n",
      "k=10, accuracy=96.02%, time=385.52\n",
      "k=10, accuracy=96.98%, time=508.88\n",
      "k=10, accuracy=96.32%, time=539.63\n",
      "k=10, accuracy=96.48%, time=517.48\n",
      "k=20, accuracy=96.22%, time=543.84\n",
      "k=20, accuracy=96.16%, time=512.23\n",
      "k=20, accuracy=95.88%, time=537.97\n",
      "k=20, accuracy=96.06%, time=511.01\n",
      "k=20, accuracy=95.64%, time=543.34\n",
      "k=20, accuracy=96.30%, time=519.94\n",
      "k=20, accuracy=95.44%, time=535.05\n",
      "k=20, accuracy=96.40%, time=513.81\n",
      "k=20, accuracy=95.64%, time=534.57\n",
      "k=20, accuracy=95.84%, time=516.70\n",
      "k=50, accuracy=95.06%, time=549.47\n",
      "k=50, accuracy=94.58%, time=515.21\n",
      "k=50, accuracy=94.50%, time=537.45\n",
      "k=50, accuracy=94.72%, time=511.59\n",
      "k=50, accuracy=94.24%, time=533.72\n",
      "k=50, accuracy=94.88%, time=517.27\n",
      "k=50, accuracy=93.98%, time=549.50\n",
      "k=50, accuracy=95.24%, time=515.80\n",
      "k=50, accuracy=94.28%, time=534.02\n",
      "k=50, accuracy=94.50%, time=510.58\n",
      "k=100, accuracy=93.84%, time=535.77\n",
      "k=100, accuracy=93.46%, time=521.40\n",
      "k=100, accuracy=93.36%, time=545.06\n",
      "k=100, accuracy=93.62%, time=516.68\n",
      "k=100, accuracy=93.14%, time=536.86\n",
      "k=100, accuracy=93.78%, time=508.84\n",
      "k=100, accuracy=93.00%, time=546.85\n",
      "k=100, accuracy=93.78%, time=516.47\n",
      "k=100, accuracy=92.68%, time=540.99\n",
      "k=100, accuracy=92.84%, time=511.72\n",
      "k=500, accuracy=89.12%, time=539.65\n",
      "k=500, accuracy=88.00%, time=504.80\n",
      "k=500, accuracy=88.82%, time=381.58\n",
      "k=500, accuracy=88.92%, time=368.18\n",
      "k=500, accuracy=87.18%, time=381.56\n",
      "k=500, accuracy=89.04%, time=505.41\n",
      "k=500, accuracy=88.44%, time=479.90\n",
      "k=500, accuracy=88.62%, time=373.03\n",
      "k=500, accuracy=87.58%, time=384.78\n",
      "k=500, accuracy=87.84%, time=387.94\n"
     ]
    }
   ],
   "source": [
    "!python kNNTrain.py"
   ]
  },
  {
   "cell_type": "code",
   "execution_count": 19,
   "metadata": {},
   "outputs": [
    {
     "name": "stdout",
     "output_type": "stream",
     "text": [
      "Processed 10 lines.\n"
     ]
    }
   ],
   "source": [
    "# retrive the accurancy history\n",
    "import csv\n",
    "\n",
    "Accuracies = []\n",
    "with open('results.csv') as csv_file:\n",
    "    csv_reader = csv.reader(csv_file)\n",
    "    count = 0\n",
    "    for row in csv_reader:\n",
    "        Accuracies.append(np.asarray(row, dtype=np.float))\n",
    "        count += 1\n",
    "    print(f'Processed {count} lines.')"
   ]
  },
  {
   "cell_type": "code",
   "execution_count": 20,
   "metadata": {},
   "outputs": [
    {
     "data": {
      "image/png": "[encoded data removed]",
      "text/plain": [
       "<Figure size 720x360 with 1 Axes>"
      ]
     },
     "metadata": {
      "needs_background": "light"
     },
     "output_type": "display_data"
    }
   ],
   "source": [
    "import pandas as pd\n",
    "import seaborn as sns\n",
    "\n",
    "data = pd.DataFrame({'K': np.repeat(Ks, 10), 'Accuracy': np.array(Accuracies).reshape(-1)})\n",
    "\n",
    "sns.catplot(x='K', y='Accuracy',  kind=\"point\", data=data, aspect=2)\n",
    "plt.title('Accuracies v.s. Ks', weight='bold', fontsize=16)\n",
    "plt.show()"
   ]
  },
  {
   "cell_type": "markdown",
   "metadata": {},
   "source": [
    "## Notice that the accurancies begin to drop dramatically after K=10 and it seems that it's possible the optimal K occurs between 5 to 10. So we will rerun our script for K=6, 7, 8, 9."
   ]
  },
  {
   "cell_type": "code",
   "execution_count": 39,
   "metadata": {
    "scrolled": true
   },
   "outputs": [
    {
     "name": "stdout",
     "output_type": "stream",
     "text": [
      "k=6, accuracy=96.76%, time=416.36\n",
      "k=6, accuracy=96.60%, time=460.41\n",
      "k=6, accuracy=96.86%, time=437.56\n",
      "k=6, accuracy=96.34%, time=410.28\n",
      "k=6, accuracy=97.14%, time=409.41\n",
      "k=6, accuracy=97.20%, time=411.18\n",
      "k=6, accuracy=97.00%, time=408.02\n",
      "k=6, accuracy=96.94%, time=409.02\n",
      "k=6, accuracy=96.58%, time=408.99\n",
      "k=6, accuracy=96.96%, time=407.30\n",
      "k=7, accuracy=96.64%, time=407.96\n",
      "k=7, accuracy=96.72%, time=407.30\n",
      "k=7, accuracy=96.74%, time=471.73\n",
      "k=7, accuracy=96.42%, time=473.08\n",
      "k=7, accuracy=97.04%, time=475.83\n",
      "k=7, accuracy=97.12%, time=472.26\n",
      "k=7, accuracy=96.90%, time=471.14\n",
      "k=7, accuracy=97.04%, time=475.56\n",
      "k=7, accuracy=96.50%, time=409.08\n",
      "k=7, accuracy=96.98%, time=412.78\n",
      "k=8, accuracy=96.86%, time=444.64\n",
      "k=8, accuracy=96.70%, time=436.11\n",
      "k=8, accuracy=96.70%, time=436.40\n",
      "k=8, accuracy=96.42%, time=457.57\n",
      "k=8, accuracy=96.92%, time=449.91\n",
      "k=8, accuracy=97.06%, time=423.70\n",
      "k=8, accuracy=97.08%, time=421.85\n",
      "k=8, accuracy=97.02%, time=428.64\n",
      "k=8, accuracy=96.34%, time=425.10\n",
      "k=8, accuracy=96.78%, time=435.12\n",
      "k=9, accuracy=96.56%, time=434.18\n",
      "k=9, accuracy=96.64%, time=430.42\n",
      "k=9, accuracy=96.58%, time=426.59\n",
      "k=9, accuracy=96.32%, time=428.86\n",
      "k=9, accuracy=96.88%, time=501.69\n",
      "k=9, accuracy=97.00%, time=537.34\n",
      "k=9, accuracy=96.94%, time=548.27\n",
      "k=9, accuracy=96.90%, time=510.42\n",
      "k=9, accuracy=96.30%, time=465.00\n",
      "k=9, accuracy=96.68%, time=456.56\n"
     ]
    }
   ],
   "source": [
    "!python kNNTrain2.py"
   ]
  },
  {
   "cell_type": "code",
   "execution_count": 21,
   "metadata": {},
   "outputs": [
    {
     "name": "stdout",
     "output_type": "stream",
     "text": [
      "Processed 4 lines.\n"
     ]
    }
   ],
   "source": [
    "Accuracies2 = []\n",
    "with open('results2.csv') as csv_file:\n",
    "    csv_reader = csv.reader(csv_file)\n",
    "    count = 0\n",
    "    for row in csv_reader:\n",
    "        Accuracies2.append(np.asarray(row, dtype=np.float))\n",
    "        count += 1\n",
    "    print(f'Processed {count} lines.')"
   ]
  },
  {
   "cell_type": "code",
   "execution_count": 22,
   "metadata": {},
   "outputs": [
    {
     "data": {
      "image/png": "[encoded data removed]",
      "text/plain": [
       "<Figure size 720x360 with 1 Axes>"
      ]
     },
     "metadata": {
      "needs_background": "light"
     },
     "output_type": "display_data"
    }
   ],
   "source": [
    "combined_accurancies = np.concatenate([Accuracies[:5], Accuracies2, Accuracies[5:]])\n",
    "combined_Ks = np.concatenate([Ks[:5],  [6,7,8,9], Ks[5:]])\n",
    "\n",
    "data = pd.DataFrame({'K': np.repeat(combined_Ks, 10), 'Accuracy': np.array(combined_accurancies).reshape(-1)})\n",
    "\n",
    "sns.catplot(x='K', y='Accuracy',  kind=\"point\", data=data, aspect=2)\n",
    "plt.title('Accuracies v.s. all Ks', weight='bold', fontsize=16)\n",
    "plt.show()"
   ]
  },
  {
   "cell_type": "code",
   "execution_count": 23,
   "metadata": {},
   "outputs": [
    {
     "data": {
      "image/png": "[encoded data removed]",
      "text/plain": [
       "<Figure size 720x360 with 1 Axes>"
      ]
     },
     "metadata": {
      "needs_background": "light"
     },
     "output_type": "display_data"
    }
   ],
   "source": [
    "data = pd.DataFrame({'K': np.repeat(combined_Ks[:10], 10), 'Accuracy': np.array(combined_accurancies[:10]).reshape(-1)})\n",
    "\n",
    "sns.catplot(x='K', y='Accuracy',  kind=\"point\", data=data, aspect=2)\n",
    "plt.title('Accuracies v.s. first 10 Ks', weight='bold', fontsize=16)\n",
    "plt.show()"
   ]
  },
  {
   "cell_type": "code",
   "execution_count": 24,
   "metadata": {},
   "outputs": [
    {
     "name": "stdout",
     "output_type": "stream",
     "text": [
      "[0.9711  0.9644  0.9711  0.969   0.9696  0.96838 0.9681  0.96788 0.9668\n",
      " 0.9653  0.9595  0.946   0.9335  0.8834 ]\n",
      "The optimal K is 1\n"
     ]
    }
   ],
   "source": [
    "avg_accuracies = np.average(combined_accurancies, axis=1)\n",
    "print(avg_accuracies)\n",
    "best_k = np.argmax(avg_accuracies)+1\n",
    "print(f\"The optimal K is {best_k}\")"
   ]
  },
  {
   "cell_type": "markdown",
   "metadata": {},
   "source": [
    "## Notice that K=1 and K=3 achieved similar accurancies so we will test using both of them"
   ]
  },
  {
   "cell_type": "markdown",
   "metadata": {},
   "source": [
    "### 1.1.4 KNN Testing"
   ]
  },
  {
   "cell_type": "code",
   "execution_count": 16,
   "metadata": {},
   "outputs": [
    {
     "name": "stderr",
     "output_type": "stream",
     "text": [
      "UsageError: Line magic function `%%perl` not found.\n"
     ]
    }
   ],
   "source": [
    "########################## Again, we won't execute this cell ##############################\n",
    "%%perl -eat\n",
    "\n",
    "best_k = 1\n",
    "# best_k = 3\n",
    "\n",
    "start_time = time.time()\n",
    "score = kNNTrain(X_train, y_train, X_test, y_test, K=best_k)\n",
    "elapsed_time = time.time() - start_time\n",
    "print(\"k=%d, accuracy=%.2f%%, time=%.2f\" % (k, score*100, elapsed_time))"
   ]
  },
  {
   "cell_type": "code",
   "execution_count": 3,
   "metadata": {},
   "outputs": [
    {
     "name": "stdout",
     "output_type": "stream",
     "text": [
      "k=1, accuracy=96.66%, time=785.04\r\n"
     ]
    }
   ],
   "source": [
    "# for k=1\n",
    "!python kNNTest.py"
   ]
  },
  {
   "cell_type": "code",
   "execution_count": 1,
   "metadata": {},
   "outputs": [
    {
     "name": "stdout",
     "output_type": "stream",
     "text": [
      "k=3, accuracy=96.81%, time=909.56\r\n"
     ]
    }
   ],
   "source": [
    "# for k=3\n",
    "!python kNNTest2.py"
   ]
  },
  {
   "cell_type": "markdown",
   "metadata": {},
   "source": [
    "## 1.2 Compare Different Distance Metric\n",
    "\n",
    "We will replace the original distance metrix with $\\|X-X_0\\|_p$ for $p=1,2,\\cdots,10$."
   ]
  },
  {
   "cell_type": "code",
   "execution_count": 16,
   "metadata": {},
   "outputs": [
    {
     "name": "stderr",
     "output_type": "stream",
     "text": [
      "UsageError: Line magic function `%%perl` not found.\n"
     ]
    }
   ],
   "source": [
    "########################## Similarly, this cell won't be excecuted either ##############################\n",
    "%%perl -eat\n",
    "\n",
    "best_k = 1\n",
    "# best_k = 3\n",
    "\n",
    "accuracies = []\n",
    "for p in range(1, 11):\n",
    "    accuracies = []\n",
    "\n",
    "    start_time = time.time()\n",
    "    model = KNeighborsClassifier(n_neighbors=best_k, p=p)\n",
    "    model.fit(X_train, y_train)\n",
    "    score = model.score(X_test, y_test)\n",
    "    elapsed_time = time.time() - start_time\n",
    "\n",
    "    accuracies.append(score)\n",
    "    print(\"p=%d, accuracy=%.2f%%, time=%.2f\" % (p, score * 100, elapsed_time))\n",
    "\n",
    "accuracies = np.array(accuracies)\n",
    "np.savetxt(\"distance_results.csv\", accuracies, delimiter=\",\")"
   ]
  },
  {
   "cell_type": "code",
   "execution_count": 2,
   "metadata": {},
   "outputs": [
    {
     "name": "stdout",
     "output_type": "stream",
     "text": [
      "p=1, accuracy=95.99%, time=912.96\n",
      "p=2, accuracy=96.66%, time=921.89\n",
      "p=3, accuracy=96.98%, time=910.97\n",
      "p=4, accuracy=97.07%, time=890.34\n",
      "p=5, accuracy=97.15%, time=883.90\n",
      "p=6, accuracy=97.15%, time=1005.85\n",
      "p=7, accuracy=97.17%, time=947.32\n",
      "p=8, accuracy=97.15%, time=898.36\n",
      "p=9, accuracy=97.20%, time=1024.26\n",
      "p=10, accuracy=97.17%, time=885.19\n"
     ]
    }
   ],
   "source": [
    "# for k=1\n",
    "!python kNNDistance.py"
   ]
  },
  {
   "cell_type": "code",
   "execution_count": 3,
   "metadata": {},
   "outputs": [
    {
     "name": "stdout",
     "output_type": "stream",
     "text": [
      "p=1, accuracy=96.02%, time=839.60\n",
      "p=2, accuracy=96.81%, time=945.41\n",
      "p=3, accuracy=97.06%, time=910.48\n",
      "p=4, accuracy=97.20%, time=894.39\n",
      "p=5, accuracy=97.26%, time=896.24\n",
      "p=6, accuracy=97.26%, time=869.87\n",
      "p=7, accuracy=97.24%, time=935.34\n",
      "p=8, accuracy=97.34%, time=997.67\n",
      "p=9, accuracy=97.32%, time=957.46\n",
      "p=10, accuracy=97.24%, time=944.36\n"
     ]
    }
   ],
   "source": [
    "# for k=3\n",
    "!python kNNDistance2.py"
   ]
  }
 ],
 "metadata": {
  "anaconda-cloud": {},
  "kernelspec": {
   "display_name": "Python 3",
   "language": "python",
   "name": "python3"
  },
  "language_info": {
   "codemirror_mode": {
    "name": "ipython",
    "version": 3
   },
   "file_extension": ".py",
   "mimetype": "text/x-python",
   "name": "python",
   "nbconvert_exporter": "python",
   "pygments_lexer": "ipython3",
   "version": "3.7.4"
  }
 },
 "nbformat": 4,
 "nbformat_minor": 2
}
