{
 "cells": [
  {
   "cell_type": "code",
   "execution_count": 1,
   "metadata": {
    "code_folding": [],
    "colab": {},
    "colab_type": "code",
    "id": "YuwqJISJr6yf"
   },
   "outputs": [],
   "source": [
    "# Standard imports\n",
    "import numpy as np\n",
    "import matplotlib.pylab as plt\n",
    "%matplotlib inline\n",
    "import importlib\n",
    "import time"
   ]
  },
  {
   "cell_type": "markdown",
   "metadata": {
    "colab_type": "text",
    "id": "thANO9Zar6yk"
   },
   "source": [
    "## 1.1 Supplied Helper Functions"
   ]
  },
  {
   "cell_type": "code",
   "execution_count": 2,
   "metadata": {
    "code_folding": [],
    "colab": {},
    "colab_type": "code",
    "id": "5P9U3J2Mr6yl"
   },
   "outputs": [],
   "source": [
    "# Supplied functions\n",
    "def OneHot(z):\n",
    "    '''\n",
    "        y = OneHot(z)\n",
    "\n",
    "        Applies the one-hot function to the vectors in z.\n",
    "        Example:\n",
    "          OneHot([[0.9, 0.1], [-0.5, 0.1]])\n",
    "          returns np.array([[1,0],[0,1]])\n",
    "\n",
    "        Input:\n",
    "         z    is a 2D array of samples\n",
    "\n",
    "        Output:\n",
    "         y    is an array the same shape as z\n",
    "    '''\n",
    "    y = []\n",
    "    # Locate the max of each row\n",
    "    for zz in z:\n",
    "        idx = np.argmax(zz)\n",
    "        b = np.zeros_like(zz)\n",
    "        b[idx] = 1.\n",
    "        y.append(b)\n",
    "    y = np.array(y)\n",
    "    return y\n",
    "\n",
    "def Shuffle(inputs, targets):\n",
    "    '''\n",
    "        s_inputs, s_targets = Shuffle(inputs, targets)\n",
    "\n",
    "        Randomly shuffles the dataset.\n",
    "\n",
    "        Inputs:\n",
    "         inputs     array of inputs\n",
    "         targets    array of corresponding targets\n",
    "\n",
    "        Outputs:\n",
    "         s_inputs   shuffled array of inputs\n",
    "         s_targets  corresponding shuffled array of targets\n",
    "    '''\n",
    "    data = list(zip(inputs,targets))\n",
    "    np.random.shuffle(data)\n",
    "    s_inputs, s_targets = zip(*data)\n",
    "    return np.array(s_inputs), np.array(s_targets)\n",
    "\n",
    "def MakeBatches(data_in, data_out, batch_size=10, shuffle=True):\n",
    "    '''\n",
    "    batches = MakeBatches(data_in, data_out, batch_size=10)\n",
    "\n",
    "    Breaks up the dataset into batches of size batch_size.\n",
    "\n",
    "    Inputs:\n",
    "      data_in    is a list of inputs\n",
    "      data_out   is a list of outputs\n",
    "      batch_size is the number of samples in each batch\n",
    "      shuffle    shuffle samples first (True)\n",
    "\n",
    "    Output:\n",
    "      batches is a list containing batches, where each batch is:\n",
    "                 [in_batch, out_batch]\n",
    "\n",
    "    Note: The last batch might be incomplete (smaller than batch_size).\n",
    "    '''\n",
    "    N = len(data_in)\n",
    "    r = range(N)\n",
    "    if shuffle:\n",
    "        r = np.random.permutation(N)\n",
    "    batches = []\n",
    "    for k in range(0, N, batch_size):\n",
    "        if k+batch_size<=N:\n",
    "            din = data_in[r[k:k+batch_size]]\n",
    "            dout = data_out[r[k:k+batch_size]]\n",
    "        else:\n",
    "            din = data_in[r[k:]]\n",
    "            dout = data_out[r[k:]]\n",
    "        if isinstance(din, (list, tuple)):\n",
    "            batches.append( [np.stack(din, dim=0) , np.stack(dout, dim=0)] )\n",
    "        else:\n",
    "            batches.append( [din , dout] )\n",
    "\n",
    "    return batches\n"
   ]
  },
  {
   "cell_type": "markdown",
   "metadata": {
    "colab_type": "text",
    "id": "Nnvh6pZLr6yp"
   },
   "source": [
    "## 1.2 Cost Function"
   ]
  },
  {
   "cell_type": "code",
   "execution_count": 3,
   "metadata": {
    "colab": {},
    "colab_type": "code",
    "id": "hHQKsuwar6yq"
   },
   "outputs": [],
   "source": [
    "def CrossEntropy(y, t):\n",
    "    '''\n",
    "        E = CrossEntropy(y, t)\n",
    "\n",
    "        Evaluates the mean cross entropy loss between outputs y and targets t.\n",
    "\n",
    "        Inputs:\n",
    "          y is an array holding the network outputs of size N x C\n",
    "          t is an array holding the corresponding targets of size N x C\n",
    "\n",
    "        Outputs:\n",
    "          E is the mean CE of size 1 x 1\n",
    "    '''\n",
    "    N = y.shape[0]\n",
    "    \n",
    "    return np.sum(-t * np.log(y) - (1-t) * np.log(1-y)) / N\n",
    "\n",
    "def gradCrossEntropy(y, t):\n",
    "    '''\n",
    "        E = gradCrossEntropy(y, t)\n",
    "\n",
    "        Given targets t, evaluates the gradient of the mean cross entropy loss\n",
    "        with respect to the output y.\n",
    "\n",
    "        Inputs:\n",
    "          y is the array holding the network's output of size N x C\n",
    "          t is an array holding the corresponding targets of size N x C\n",
    "\n",
    "        Outputs:\n",
    "          dEdy is the gradient of CE with respect to output y of size N x C\n",
    "    '''\n",
    "    N = y.shape[0]\n",
    "    \n",
    "    return ( (-t / y) + (1-t) / (1-y) ) / N\n",
    "\n",
    "def MSE(y, t):\n",
    "    '''\n",
    "        E = MSE(y, t)\n",
    "\n",
    "        Evaluates the mean squared error loss between outputs y and targets t.\n",
    "\n",
    "        Inputs:\n",
    "          y is the array holding the network's output of size N x C\n",
    "          t is an array holding the corresponding targets of size N x C\n",
    "\n",
    "        Outputs:\n",
    "          E is the MSE of size 1 x 1\n",
    "    '''\n",
    "    N = y.shape[0]\n",
    "    \n",
    "    return np.sum(np.square(y - t)) / (2*N)\n",
    "\n",
    "def gradMSE(y, t):\n",
    "    '''\n",
    "        E = gradMSE(y, t)\n",
    "\n",
    "        Given targets t, evaluates the gradient of the mean squared error loss\n",
    "        with respect to the output y.\n",
    "\n",
    "        Inputs:\n",
    "          y is the array holding the network's output of size N x C\n",
    "          t is an array holding the corresponding targets of size N x C\n",
    "\n",
    "        Outputs:\n",
    "          dEdy is the gradient of MSE with respect to output y of size N x C\n",
    "    '''\n",
    "    N = y.shape[0]\n",
    "    \n",
    "    return (y - t) / N\n",
    "\n",
    "def CategoricalCE(outputs, t):\n",
    "    return -np.sum(t * np.log(outputs)) / len(t)"
   ]
  },
  {
   "cell_type": "markdown",
   "metadata": {
    "colab_type": "text",
    "id": "FraCrY_br6yt"
   },
   "source": [
    "## 1.3 Layer Class"
   ]
  },
  {
   "cell_type": "code",
   "execution_count": 4,
   "metadata": {
    "colab": {},
    "colab_type": "code",
    "id": "dTMBwdy5r6yu"
   },
   "outputs": [],
   "source": [
    "class Layer():\n",
    "\n",
    "    def __init__(self, n_nodes, act='logistic'):\n",
    "        '''\n",
    "            lyr = Layer(n_nodes, act='logistic')\n",
    "\n",
    "            Creates a layer object.\n",
    "\n",
    "            Inputs:\n",
    "             n_nodes  the number of nodes in the layer\n",
    "             act      specifies the activation function\n",
    "                      Use 'logistic' or 'identity'\n",
    "        '''\n",
    "        self.N = n_nodes  # number of nodes in this layer\n",
    "        self.h = []       # node activities\n",
    "        self.z = []\n",
    "        self.b = np.zeros(self.N)  # biases\n",
    "\n",
    "        # Activation functions\n",
    "        if act=='logistic':\n",
    "            self.sigma = self.Logistic\n",
    "            self.sigma_p = self.Logistic_p\n",
    "        elif act=='identity':\n",
    "            self.sigma = self.Identity\n",
    "            self.sigma_p = self.Identity_p\n",
    "        elif act=='softmax':\n",
    "            self.sigma = self.Softmax\n",
    "            self.sigma_p = None\n",
    "        else:\n",
    "            print('Error: Activation function '+act+' not implemented!')\n",
    "\n",
    "    def Logistic(self):\n",
    "        return 1. / (1. + np.exp(-self.z))\n",
    "    def Logistic_p(self):\n",
    "        return self.h * (1.-self.h)\n",
    "    def Identity(self):\n",
    "        return self.z\n",
    "    def Identity_p(self):\n",
    "        return np.ones_like(self.h)\n",
    "    def Softmax(self):\n",
    "        v = np.exp(self.z)\n",
    "        s = np.sum(v, axis=1)\n",
    "        return v/np.tile(s[:,np.newaxis], [1,np.shape(v)[1]])"
   ]
  },
  {
   "cell_type": "markdown",
   "metadata": {
    "colab_type": "text",
    "id": "Dlu086Jer6yw"
   },
   "source": [
    "## 1.4 Network Class"
   ]
  },
  {
   "cell_type": "code",
   "execution_count": 5,
   "metadata": {
    "code_folding": [
     52,
     78,
     94,
     106,
     126
    ],
    "colab": {},
    "colab_type": "code",
    "id": "gDUHQq8jr6yw"
   },
   "outputs": [],
   "source": [
    "class Network():\n",
    "\n",
    "    def __init__(self, sizes, type='classifier'):\n",
    "        '''\n",
    "            net = Network(sizes, type='classifier')\n",
    "\n",
    "            Creates a Network and saves it in the variable 'net'.\n",
    "\n",
    "            Inputs:\n",
    "              sizes is a list of integers specifying the number\n",
    "                  of nodes in each layer\n",
    "                  eg. [5, 20, 3] will create a 3-layer network\n",
    "                      with 5 input, 20 hidden, and 3 output nodes\n",
    "              type can be either 'Bernoulli', 'classifier' or 'regression',\n",
    "                   and sets the activation function on the output layer,\n",
    "                   as well as the loss function.\n",
    "                   'Bernoulli':  logistic, cross entropy\n",
    "                   'classifier': softmax, categorical cross entropy\n",
    "                   'regression': linear, mean squared error\n",
    "        '''\n",
    "        self.n_layers = len(sizes)\n",
    "        self.lyr = []    # a list of Layers\n",
    "        self.W = []      # Weight matrices, indexed by the layer below it\n",
    "\n",
    "        self.type = type # 'Bernoulli', 'classifier', 'regression'\n",
    "\n",
    "        self.cost_history = []  # keeps track of the cost as learning progresses\n",
    "\n",
    "        # Two common types of networks\n",
    "        # The member variable self.Loss refers to one of the implemented\n",
    "        # loss functions: MSE, or CrossEntropy.\n",
    "        # Call it using self.Loss(t)\n",
    "        if type=='Bernoulli':\n",
    "            self.Loss = CrossEntropy\n",
    "            self.gradLoss = gradCrossEntropy\n",
    "            activation = 'logistic'\n",
    "        elif type=='classifier':\n",
    "            self.Loss = CategoricalCE\n",
    "            self.gradLoss = None\n",
    "            activation = 'softmax'\n",
    "        elif type=='regression':\n",
    "            self.Loss = MSE\n",
    "            self.gradLoss = gradMSE\n",
    "            activation = 'identity'\n",
    "        else:\n",
    "            print('Error: Network type '+type+' not implemented!')\n",
    "\n",
    "        # Create and add Layers (using logistic for hidden layers)\n",
    "        for n in sizes[:-1]:\n",
    "            self.lyr.append( Layer(n) )\n",
    "\n",
    "        # For the top layer, we use the appropriate activtaion function\n",
    "        self.lyr.append( Layer(sizes[-1], act=activation) )\n",
    "\n",
    "        # Randomly initialize weight matrices\n",
    "        for idx in range(self.n_layers-1):\n",
    "            m = self.lyr[idx].N\n",
    "            n = self.lyr[idx+1].N\n",
    "            temp = np.random.normal(size=[m,n])/np.sqrt(m)\n",
    "            self.W.append(temp)\n",
    "    \n",
    "    def FeedForward(self, x):\n",
    "        '''\n",
    "            y = net.FeedForward(x)\n",
    "\n",
    "            Runs the network forward, starting with x as input.\n",
    "            Returns the activity of the output layer.\n",
    "\n",
    "            All node use \n",
    "            Note: The activation function used for the output layer\n",
    "            depends on what self.Loss is set to.\n",
    "        '''\n",
    "        x = np.array(x)  # Convert input to array, in case it's not\n",
    "        self.lyr[0].h = x\n",
    "\n",
    "        for i in range(self.n_layers-1):\n",
    "            layer = self.lyr[i+1]\n",
    "            weight = self.W[i]\n",
    "\n",
    "            layer.z = np.dot(x, weight) + layer.b\n",
    "            layer.h = layer.sigma()\n",
    "            x = layer.h\n",
    "\n",
    "        return x\n",
    "\n",
    "    def TopGradient(self, t):\n",
    "        '''\n",
    "            dEdz = net.TopGradient(targets)\n",
    "\n",
    "            Computes and returns the gradient of the cost with respect to the input current\n",
    "            to the output nodes.\n",
    "\n",
    "            Inputs:\n",
    "              targets is a batch of targets corresponding to the last FeedForward run\n",
    "\n",
    "            Outputs:\n",
    "              dEdz is a batch of gradient vectors corresponding to the output nodes\n",
    "        '''\n",
    "        if self.type=='classifier':\n",
    "            return ( self.lyr[-1].h - t ) / len(t)\n",
    "        elif self.type=='regression':\n",
    "            return ( self.lyr[-1].h - t ) / len(t)\n",
    "        elif self.type=='Bernoulli':\n",
    "            return ( self.lyr[-1].h - t ) / len(t)\n",
    "        return self.gradLoss(self.lyr[-1].h, t) * self.lyr[-1].sigma_p()\n",
    "    \n",
    "    \n",
    "    def BackProp(self, t, lrate=0.05):\n",
    "        '''\n",
    "            net.BackProp(targets, lrate=0.05)\n",
    "\n",
    "            Given the current network state and targets t, updates the connection\n",
    "            weights and biases using the backpropagation algorithm.\n",
    "\n",
    "            Inputs:\n",
    "             t      an array of targets (number of samples must match the\n",
    "                    network's output)\n",
    "             lrate  learning rate\n",
    "        '''\n",
    "        t = np.array(t)  # convert t to an array, in case it's not\n",
    "\n",
    "        # Error gradient for top layer\n",
    "        dEdz = self.TopGradient(t)\n",
    "\n",
    "        # Loop down through the layers\n",
    "        # Start second-from-the-top, and go down to layer 0\n",
    "        for i in range(self.n_layers-2, -1, -1):\n",
    "            pre = self.lyr[i]\n",
    "\n",
    "            # Gradient w.r.t. weights\n",
    "            dEdW = pre.h.T @ dEdz\n",
    "\n",
    "            # Gradient w.r.t. biases\n",
    "            dEdb = np.sum(dEdz, axis=0)\n",
    "\n",
    "            # Use Sigma'\n",
    "            # Project error gradient down to layer below\n",
    "            dEdz = ( dEdz @ self.W[i].T ) * pre.sigma_p()\n",
    "\n",
    "            # Update weights and biases\n",
    "            self.W[i] -= lrate*dEdW\n",
    "            self.lyr[i+1].b -= lrate*dEdb\n",
    "\n",
    "\n",
    "            \n",
    "    def Learn(self, inputs, targets, lrate=0.05, epochs=1, progress=True):\n",
    "        '''\n",
    "            Network.Learn(data, lrate=0.05, epochs=1, progress=True)\n",
    "\n",
    "            Run through the dataset 'epochs' number of times, incrementing the\n",
    "            network weights after each epoch.\n",
    "\n",
    "            Inputs:\n",
    "              data is a list of 2 arrays, one for inputs, and one for targets\n",
    "              lrate is the learning rate (try 0.001 to 0.5)\n",
    "              epochs is the number of times to go through the training data\n",
    "              progress (Boolean) indicates whether to show cost\n",
    "        '''\n",
    "        for i in range(epochs):\n",
    "            y = self.FeedForward(inputs)\n",
    "            self.BackProp(targets, lrate)\n",
    "            if progress:\n",
    "                self.cost_history.append(self.Loss(y, targets))\n",
    "                if i % 20 == 0:\n",
    "                    print(f\"Epoch {i}: Cost = {self.cost_history[-1]}\")\n",
    "                    \n",
    "                    \n",
    "    def SGD(self, inputs, targets, lrate=0.05, epochs=1, batch_size=10):\n",
    "        '''\n",
    "            progress = net.SGD(inputs, targets, lrate=0.05, epochs=1, batch_size=10)\n",
    "\n",
    "            Performs Stochastic Gradient Descent on the network.\n",
    "            Run through the dataset in batches 'epochs' number of times, incrementing the\n",
    "            network weights after each batch. For each epoch, it shuffles the dataset.\n",
    "\n",
    "            Inputs:\n",
    "              inputs  is an array of input samples\n",
    "              targets is a corresponding array of targets\n",
    "              lrate   is the learning rate (try 0.001 to 5)\n",
    "              epochs  is the number of times to go through the training data\n",
    "              batch_size is the number of samples for each batch\n",
    "\n",
    "            Outputs:\n",
    "              progress is an (epochs)x2 array with epoch in the first column, and\n",
    "                      cost in the second column\n",
    "        '''\n",
    "        loss_history = []\n",
    "        for k in range(epochs):\n",
    "            batches = MakeBatches(inputs, targets, batch_size=batch_size, shuffle=True)\n",
    "            for mini_batch in batches:\n",
    "                self.FeedForward(mini_batch[0])\n",
    "                self.BackProp(mini_batch[1], lrate=lrate)\n",
    "\n",
    "            loss_history.append([k, self.Evaluate(inputs, targets)])\n",
    "\n",
    "        return np.array(loss_history)\n",
    "    \n",
    "\n",
    "    def Evaluate(self, inputs, targets):\n",
    "        '''\n",
    "            E = net.Evaluate(data)\n",
    "\n",
    "            Computes the average loss over the supplied dataset.\n",
    "\n",
    "            Inputs\n",
    "             inputs  is an array of inputs\n",
    "             targets is a list of corresponding targets\n",
    "\n",
    "            Outputs\n",
    "             E is a scalar, the average loss\n",
    "        '''\n",
    "        y = self.FeedForward(inputs)\n",
    "        return self.Loss(y, targets)\n",
    "\n",
    "    def ClassificationAccuracy(self, inputs, targets):\n",
    "        '''\n",
    "            a = net.ClassificationAccuracy(data)\n",
    "            \n",
    "            Returns the fraction (between 0 and 1) of correct one-hot classifications\n",
    "            in the dataset.\n",
    "        '''\n",
    "        y = self.FeedForward(inputs)\n",
    "        yb = OneHot(y)\n",
    "        n_incorrect = np.sum(yb!=targets) / 2.\n",
    "        return 1. - float(n_incorrect) / len(inputs)"
   ]
  },
  {
   "cell_type": "markdown",
   "metadata": {
    "colab_type": "text",
    "id": "lwUT7PKMr6yy"
   },
   "source": [
    "## 1.5 Binary Classification"
   ]
  },
  {
   "cell_type": "markdown",
   "metadata": {
    "colab_type": "text",
    "id": "ntYUz0Byr6yy"
   },
   "source": [
    "### 1.5.1 Create a Classification Dataset"
   ]
  },
  {
   "cell_type": "code",
   "execution_count": 6,
   "metadata": {
    "code_folding": [],
    "colab": {},
    "colab_type": "code",
    "id": "FTkTxBuDr6yz"
   },
   "outputs": [],
   "source": [
    "# 5 Classes in 8-Dimensional Space\n",
    "np.random.seed(15)\n",
    "noise = 0.1\n",
    "InputClasses = np.array([[1,0,1,0,0,1,1,0],\n",
    "                         [0,1,0,1,0,1,0,1],\n",
    "                         [0,1,1,0,1,0,0,1],\n",
    "                         [1,0,0,0,1,0,1,1],\n",
    "                         [1,0,0,1,0,1,0,1]], dtype=float)\n",
    "OutputClasses = np.array([[1,0,0,0,0],\n",
    "                          [0,1,0,0,0],\n",
    "                          [0,0,1,0,0],\n",
    "                          [0,0,0,1,0],\n",
    "                          [0,0,0,0,1]], dtype=float)\n",
    "n_input = np.shape(InputClasses)[1]\n",
    "n_output = np.shape(OutputClasses)[1]\n",
    "n_classes = np.shape(InputClasses)[0]\n",
    "\n",
    "# Create a training dataset\n",
    "n_samples = 100\n",
    "training_output = []\n",
    "training_input = []\n",
    "for idx in range(n_samples):\n",
    "    k = np.random.randint(n_classes)\n",
    "    x = InputClasses[k,:] + np.random.normal(size=n_input)*noise\n",
    "    t = OutputClasses[k,:]\n",
    "    training_input.append(x)\n",
    "    training_output.append(t)\n",
    "\n",
    "# Create a test dataset\n",
    "n_samples = 100\n",
    "test_output = []\n",
    "test_input = []\n",
    "for idx in range(n_samples):\n",
    "    k = np.random.randint(n_classes)\n",
    "    x = InputClasses[k,:] + np.random.normal(size=n_input)*noise\n",
    "    t = OutputClasses[k,:]\n",
    "    test_input.append(x)\n",
    "    test_output.append(t)\n",
    "\n",
    "train = [np.array(training_input), np.array(training_output)]\n",
    "test = [np.array(test_input), np.array(test_output)]"
   ]
  },
  {
   "cell_type": "markdown",
   "metadata": {
    "colab_type": "text",
    "id": "sJk49SN-r6y1"
   },
   "source": [
    "### 1.5.2 Neural Network Model"
   ]
  },
  {
   "cell_type": "code",
   "execution_count": 7,
   "metadata": {
    "colab": {},
    "colab_type": "code",
    "id": "1onFddAyr6y1"
   },
   "outputs": [],
   "source": [
    "# Create a Network\n",
    "net = Network([n_input, 18, n_output], type='classifier')"
   ]
  },
  {
   "cell_type": "code",
   "execution_count": 8,
   "metadata": {
    "colab": {},
    "colab_type": "code",
    "id": "08vaqOiKr6y2"
   },
   "outputs": [],
   "source": [
    "CE = net.Evaluate(train[0], train[1])"
   ]
  },
  {
   "cell_type": "code",
   "execution_count": 9,
   "metadata": {
    "colab": {},
    "colab_type": "code",
    "id": "lHBGnkgRr6y4",
    "outputId": "7cd06920-191f-464a-878b-56da7839ba91"
   },
   "outputs": [
    {
     "name": "stdout",
     "output_type": "stream",
     "text": [
      "Cross Entropy = 1.7049945764138175\n",
      "     Accuracy = 26.0%\n"
     ]
    }
   ],
   "source": [
    "# Evaluate it before training\n",
    "CE = net.Evaluate(train[0], train[1])\n",
    "accuracy = net.ClassificationAccuracy(train[0], train[1])\n",
    "print('Cross Entropy = '+str(CE))\n",
    "print('     Accuracy = '+str(accuracy*100.)+'%')"
   ]
  },
  {
   "cell_type": "code",
   "execution_count": 10,
   "metadata": {
    "colab": {},
    "colab_type": "code",
    "id": "3_bLR1_nr6y6",
    "outputId": "067e43cb-2053-4901-c87a-9eb74e9870cb",
    "scrolled": false
   },
   "outputs": [
    {
     "name": "stdout",
     "output_type": "stream",
     "text": [
      "Epoch 0: Cost = 1.7049945764138175\n",
      "Epoch 20: Cost = 0.6640659344126957\n",
      "Epoch 40: Cost = 0.20769143733901146\n",
      "Epoch 60: Cost = 0.1003319564205297\n",
      "Epoch 80: Cost = 0.062001148347975266\n",
      "Epoch 100: Cost = 0.04357560903616135\n",
      "Epoch 120: Cost = 0.03308110404027269\n",
      "Epoch 140: Cost = 0.026419890752775732\n",
      "Epoch 160: Cost = 0.02186382718834185\n",
      "Epoch 180: Cost = 0.01857353896584927\n",
      "Epoch 200: Cost = 0.016097476484641153\n",
      "Epoch 220: Cost = 0.014173189935192437\n",
      "Epoch 240: Cost = 0.012638618631637495\n",
      "Epoch 260: Cost = 0.011388705280675593\n",
      "Epoch 280: Cost = 0.010352574653862941\n",
      "Epoch 300: Cost = 0.009480793962473016\n",
      "Epoch 320: Cost = 0.008737900515258119\n",
      "Epoch 340: Cost = 0.008097831775590066\n",
      "Epoch 360: Cost = 0.007541028651033376\n",
      "Epoch 380: Cost = 0.007052541620586019\n",
      "Epoch 400: Cost = 0.006620758544241931\n",
      "Epoch 420: Cost = 0.006236529450157108\n",
      "Epoch 440: Cost = 0.00589255153684604\n",
      "Epoch 460: Cost = 0.005582928766231716\n",
      "Epoch 480: Cost = 0.0053028510704211974\n"
     ]
    }
   ],
   "source": [
    "net.Learn(train[0], train[1], epochs=500, lrate=1.)"
   ]
  },
  {
   "cell_type": "code",
   "execution_count": 11,
   "metadata": {
    "colab": {},
    "colab_type": "code",
    "id": "QjOiX2yIr6y7",
    "outputId": "8eebc2c0-fbf8-4a43-82ce-c33fafdd2f5f"
   },
   "outputs": [
    {
     "data": {
      "image/png": "[encoded data removed]",
      "text/plain": [
       "<Figure size 432x288 with 1 Axes>"
      ]
     },
     "metadata": {
      "needs_background": "light"
     },
     "output_type": "display_data"
    }
   ],
   "source": [
    "plt.plot(net.cost_history);"
   ]
  },
  {
   "cell_type": "markdown",
   "metadata": {
    "colab_type": "text",
    "id": "kKkD4AX6r6y8"
   },
   "source": [
    "### 1.5.3 Evaluate it After Training"
   ]
  },
  {
   "cell_type": "code",
   "execution_count": 12,
   "metadata": {
    "colab": {},
    "colab_type": "code",
    "id": "k0iIlLTHr6y9",
    "outputId": "d77bcbdb-a624-41ec-cbaa-43855054fa21"
   },
   "outputs": [
    {
     "name": "stdout",
     "output_type": "stream",
     "text": [
      "Training Set\n",
      "Cross Entropy = 0.005048357063823858\n",
      "     Accuracy = 100.0%\n"
     ]
    }
   ],
   "source": [
    "print('Training Set')\n",
    "CE = net.Evaluate(train[0], train[1])\n",
    "accuracy = net.ClassificationAccuracy(train[0], train[1])\n",
    "print('Cross Entropy = '+str(CE))\n",
    "print('     Accuracy = '+str(accuracy*100.)+'%')"
   ]
  },
  {
   "cell_type": "code",
   "execution_count": 13,
   "metadata": {
    "colab": {},
    "colab_type": "code",
    "id": "zk0U68a1r6y-",
    "outputId": "7bec64a2-57e1-4c83-9582-c387bc786ebb"
   },
   "outputs": [
    {
     "name": "stdout",
     "output_type": "stream",
     "text": [
      "Test Set\n",
      "Cross Entropy = 0.005664813379256483\n",
      "     Accuracy = 100.0%\n"
     ]
    }
   ],
   "source": [
    "print('Test Set')\n",
    "CE = net.Evaluate(test[0], test[1])\n",
    "accuracy = net.ClassificationAccuracy(test[0], test[1])\n",
    "print('Cross Entropy = '+str(CE))\n",
    "print('     Accuracy = '+str(accuracy*100.)+'%')"
   ]
  },
  {
   "cell_type": "markdown",
   "metadata": {
    "colab_type": "text",
    "id": "7MBxH3Ylr6y_"
   },
   "source": [
    "## 1.6 Regression"
   ]
  },
  {
   "cell_type": "markdown",
   "metadata": {
    "colab_type": "text",
    "id": "zJ2Kqoker6y_"
   },
   "source": [
    "### 1.6.1 Create a Regression Dataset"
   ]
  },
  {
   "cell_type": "code",
   "execution_count": 14,
   "metadata": {
    "code_folding": [],
    "colab": {},
    "colab_type": "code",
    "id": "RWqsqa_8r6y_"
   },
   "outputs": [],
   "source": [
    "# 1D -> 1D (linear mapping)\n",
    "np.random.seed(846)\n",
    "n_input = 1\n",
    "n_output = 1\n",
    "slope = np.random.rand() - 0.5\n",
    "intercept = np.random.rand()*2. - 1.\n",
    "\n",
    "def myfunc(x):\n",
    "    return slope*x+intercept\n",
    "\n",
    "# Create a training dataset\n",
    "n_samples = 200\n",
    "training_output = []\n",
    "training_input = []\n",
    "xv = np.linspace(-1, 1, n_samples)\n",
    "for idx in range(n_samples):\n",
    "    #x = np.random.rand()*2. - 1.\n",
    "    x = xv[idx]\n",
    "    t = myfunc(x) + np.random.normal(scale=0.1)\n",
    "    training_input.append(np.array([x]))\n",
    "    training_output.append(np.array([t]))\n",
    "\n",
    "# Create a testing dataset\n",
    "n_samples = 50\n",
    "test_input = []\n",
    "test_output = []\n",
    "xv = np.linspace(-1, 1, n_samples)\n",
    "for idx in range(n_samples):\n",
    "    #x = np.random.rand()*2. - 1.\n",
    "    x = xv[idx] + np.random.normal(scale=0.1)\n",
    "    t = myfunc(x) + np.random.normal(scale=0.1)\n",
    "    test_input.append(np.array([x]))\n",
    "    test_output.append(np.array([t]))\n",
    "\n",
    "# Create a perfect dataset\n",
    "n_samples = 100\n",
    "perfect_input = []\n",
    "perfect_output = []\n",
    "xv = np.linspace(-1, 1, n_samples)\n",
    "for idx in range(n_samples):\n",
    "    #x = np.random.rand()*2. - 1.\n",
    "    x = xv[idx]\n",
    "    t = myfunc(x)\n",
    "    perfect_input.append(np.array([x]))\n",
    "    perfect_output.append(np.array([t]))\n",
    "    \n",
    "train = [np.array(training_input), np.array(training_output)]\n",
    "test = [np.array(test_input), np.array(test_output)]\n",
    "perfect = [np.array(perfect_input), np.array(perfect_output)]"
   ]
  },
  {
   "cell_type": "markdown",
   "metadata": {
    "colab_type": "text",
    "id": "dayUJ-lXr6zB"
   },
   "source": [
    "### 1.6.2 Neural Network Model"
   ]
  },
  {
   "cell_type": "code",
   "execution_count": 15,
   "metadata": {
    "colab": {},
    "colab_type": "code",
    "id": "XI_CEthEr6zB"
   },
   "outputs": [],
   "source": [
    "net = Network([1, 10, 1], type='regression')\n",
    "net2 = Network([1, 10, 1], type='regression')\n",
    "# deep copy the weight matrix from net to net2\n",
    "for i in range(len(net.W)):\n",
    "    net2.W[i] = np.copy(net.W[i])"
   ]
  },
  {
   "cell_type": "code",
   "execution_count": 16,
   "metadata": {
    "colab": {},
    "colab_type": "code",
    "id": "PboRfXuZr6zC",
    "outputId": "4c3baf34-af54-4518-e65a-0dd2585f85ca"
   },
   "outputs": [
    {
     "name": "stdout",
     "output_type": "stream",
     "text": [
      "MSE = 0.17876598078770747\n",
      "MSE2 = 0.17876598078770747\n"
     ]
    }
   ],
   "source": [
    "# Evaluate it before training\n",
    "mse = net.Evaluate(train[0], train[1])\n",
    "print('MSE = '+str(mse))\n",
    "# Evaluate it before training\n",
    "mse2 = net2.Evaluate(train[0], train[1])\n",
    "print('MSE2 = '+str(mse2))"
   ]
  },
  {
   "cell_type": "markdown",
   "metadata": {
    "colab_type": "text",
    "id": "7G97tCC4r6zD"
   },
   "source": [
    "### 1.6.3 Training"
   ]
  },
  {
   "cell_type": "code",
   "execution_count": 17,
   "metadata": {
    "colab": {},
    "colab_type": "code",
    "id": "YPYiF9JKr6zE",
    "outputId": "7b6368c9-eb5a-4ca9-b5da-9ee2243b4c5a",
    "scrolled": true
   },
   "outputs": [
    {
     "name": "stdout",
     "output_type": "stream",
     "text": [
      "Epoch 0: Cost = 0.17876598078770747\n",
      "Epoch 20: Cost = 0.10604681325290136\n",
      "Epoch 40: Cost = 0.08184937918113253\n",
      "Epoch 60: Cost = 0.06385589374826238\n",
      "Epoch 80: Cost = 0.05024314241843017\n",
      "Epoch 100: Cost = 0.039829362448087095\n",
      "Epoch 120: Cost = 0.0318063687940261\n",
      "Epoch 140: Cost = 0.025600078239208835\n",
      "Epoch 160: Cost = 0.020789935628921747\n",
      "Epoch 180: Cost = 0.017060421844050506\n",
      "Epoch 200: Cost = 0.014170662243563998\n",
      "Epoch 220: Cost = 0.011934572393487648\n",
      "Epoch 240: Cost = 0.0102073324873131\n",
      "Epoch 260: Cost = 0.008875795370152784\n",
      "Epoch 280: Cost = 0.007851437244578282\n"
     ]
    }
   ],
   "source": [
    "net.Learn(train[0], train[1], epochs=300)"
   ]
  },
  {
   "cell_type": "code",
   "execution_count": 18,
   "metadata": {
    "colab": {},
    "colab_type": "code",
    "id": "PlD9RApQr6zF",
    "outputId": "0e603697-9284-4fa3-aebb-3d93851007fd"
   },
   "outputs": [
    {
     "data": {
      "image/png": "[encoded data removed]",
      "text/plain": [
       "<Figure size 432x288 with 1 Axes>"
      ]
     },
     "metadata": {
      "needs_background": "light"
     },
     "output_type": "display_data"
    }
   ],
   "source": [
    "plt.plot(net.cost_history);"
   ]
  },
  {
   "cell_type": "markdown",
   "metadata": {
    "colab_type": "text",
    "id": "DHU9yqNlr6zH"
   },
   "source": [
    "### 1.6.4 Evaluate it After Training"
   ]
  },
  {
   "cell_type": "code",
   "execution_count": 19,
   "metadata": {
    "colab": {},
    "colab_type": "code",
    "id": "UJrRdwmYr6zH",
    "outputId": "22626f18-636e-4dae-89ec-34fe8bf617a9"
   },
   "outputs": [
    {
     "name": "stdout",
     "output_type": "stream",
     "text": [
      "Training MSE = 0.0070650250589358084\n"
     ]
    }
   ],
   "source": [
    "# On training dataset\n",
    "mse = net.Evaluate(train[0], train[1])\n",
    "print('Training MSE = '+str(mse))"
   ]
  },
  {
   "cell_type": "code",
   "execution_count": 20,
   "metadata": {
    "colab": {},
    "colab_type": "code",
    "id": "r-HHp8rkr6zI",
    "outputId": "8f3cd820-6031-4ca1-bcdf-d13d785d8768"
   },
   "outputs": [
    {
     "name": "stdout",
     "output_type": "stream",
     "text": [
      "Test MSE = 0.008650812311897614\n"
     ]
    }
   ],
   "source": [
    "# On test dataset\n",
    "mse = net.Evaluate(test[0], test[1])\n",
    "print('Test MSE = '+str(mse))"
   ]
  },
  {
   "cell_type": "code",
   "execution_count": 21,
   "metadata": {
    "colab": {},
    "colab_type": "code",
    "id": "uf0Cyb98r6zJ"
   },
   "outputs": [],
   "source": [
    "# Evaluate our model and the TRUE solution (since we know it)\n",
    "s = np.linspace(-1, 1, 200)\n",
    "y = net.FeedForward(np.array([s]).T)\n",
    "p = [myfunc(x) for x in s]"
   ]
  },
  {
   "cell_type": "code",
   "execution_count": 22,
   "metadata": {
    "colab": {},
    "colab_type": "code",
    "id": "MxmqIq2jr6zK",
    "outputId": "70ff6cab-8a80-4061-ff63-f94997a4565f"
   },
   "outputs": [
    {
     "data": {
      "image/png": "[encoded data removed]",
      "text/plain": [
       "<Figure size 432x288 with 1 Axes>"
      ]
     },
     "metadata": {
      "needs_background": "light"
     },
     "output_type": "display_data"
    }
   ],
   "source": [
    "# Plot the training data,\n",
    "# as well as out model and the true model\n",
    "plt.plot(training_input, training_output, 'b.')\n",
    "plt.plot(s,p, 'g--', linewidth=2)\n",
    "plt.plot(s,y, 'r--', linewidth=3)\n",
    "plt.xlabel('Input')\n",
    "plt.ylabel('Output');"
   ]
  },
  {
   "cell_type": "markdown",
   "metadata": {
    "colab_type": "text",
    "id": "GCGxkL-Br6zM"
   },
   "source": [
    "## 1.7 Multiclass Classifier"
   ]
  },
  {
   "cell_type": "markdown",
   "metadata": {
    "colab_type": "text",
    "id": "cJy2plhetDP7"
   },
   "source": [
    "### 1.7.1 Craete a Classification Dataset"
   ]
  },
  {
   "cell_type": "code",
   "execution_count": 23,
   "metadata": {
    "colab": {},
    "colab_type": "code",
    "id": "4P4ntuzMr6zM"
   },
   "outputs": [],
   "source": [
    "def ClassPlot(x, y):\n",
    "    # FeedForward\n",
    "    yc = OneHot(y)\n",
    "    colour_options = ['y', 'b', 'r', 'g', 'k']\n",
    "    cidx = np.argmax(yc, axis=1)\n",
    "    colours = [colour_options[k] for k in cidx]\n",
    "    plt.scatter(x[:,0],x[:,1], color=colours, marker='.')\n",
    "    plt.axis('equal');\n",
    "\n",
    "def GaussianCluster(mu, sa, N, theta=0.):\n",
    "    theta_rad = theta/180*np.pi\n",
    "    c, s = np.cos(theta_rad), np.sin(theta_rad)\n",
    "    R = np.array([[c,-s],[s,c]])\n",
    "    M = R @ np.diag(sa) @ R.T\n",
    "    y = np.random.multivariate_normal(mu, M, N)\n",
    "    return y\n",
    "\n",
    "def CreateDataset(params):\n",
    "    '''\n",
    "        train, test = CreateDataset(params)\n",
    "        \n",
    "        Creates a dataset using a bunch of Gaussian clouds.\n",
    "        \n",
    "        Inputs:\n",
    "          params is a list of 5-tuples. Each tuple (or list)\n",
    "             describes a 2-D Gaussian cloud:\n",
    "             1) the mean\n",
    "             2) standard deviation along x and y directions\n",
    "             3) rotation of cloud (degrees counter-clockwise)\n",
    "             4) class index\n",
    "             5) number of points\n",
    "             \n",
    "        Outputs:\n",
    "          train is a list containing 2 arrays\n",
    "             - the first array contains the training inputs,\n",
    "               one per row\n",
    "             - the second array contains the corresponding classes\n",
    "          test has the same structure as train, but with\n",
    "               half the number of samples\n",
    "    '''\n",
    "    train_inputs = []\n",
    "    train_outputs = []\n",
    "    test_inputs = []\n",
    "    test_outputs = []\n",
    "    all_c = [p[3] for p in params]\n",
    "    n_classes = np.max(all_c)\n",
    "    for p in params:\n",
    "        xx = GaussianCluster(p[0], p[1], p[4], theta=p[2])\n",
    "        yy = np.zeros((p[4], n_classes+1))\n",
    "        yy[:,p[3]] = 1.\n",
    "        train_inputs.append(xx)\n",
    "        train_outputs.append(yy)\n",
    "        xtest = GaussianCluster(p[0], p[1], int(p[4]/2), theta=p[2])\n",
    "        ytest = np.zeros((int(p[4]/2), n_classes+1))\n",
    "        ytest[:,p[3]] = 1.\n",
    "        test_inputs.append(xtest)\n",
    "        test_outputs.append(ytest)\n",
    "    train = [np.vstack(train_inputs), np.vstack(train_outputs)]\n",
    "    test = [np.vstack(test_inputs), np.vstack(test_outputs)]\n",
    "    return train, test\n",
    "\n",
    "# 0=y, 1=b, 2=r\n",
    "params = [[[0.5, 0.5],   [0.025, 0.01],  -45, 0, 50],\n",
    "          [[-0.5,-0.5],  [0.025, 0.01],  -45, 0, 50],\n",
    "          [[-0.3,-0.35], [0.04,0.01],     10, 0, 80],\n",
    "          [[0.6,0],      [0.01,0.01],      0, 0, 50],\n",
    "          [[0.1,-0.04],  [0.1,0.005],     20, 0, 80],\n",
    "          [[0.5,-0.5],   [0.02,0.01],     45, 1, 50],\n",
    "          [[0,0.6],      [0.01,0.01],      0, 1, 50],\n",
    "          [[-0.5,0.1],   [0.02,0.01],     30, 1, 80],\n",
    "          [[-0.5,0.5],   [0.02,0.01],     45, 2, 50],\n",
    "          [[0,-0.6],     [0.01,0.01],      0, 2, 50],\n",
    "          [[0.2,0.3],    [0.01,0.004],     0, 2, 80],\n",
    "          [[-0.2,0.37],  [0.02,0.005],   -30, 2, 50],\n",
    "          [[0.25,-0.3],  [0.005,0.01],     0, 3, 60],\n",
    "          [[-0.1,0.1],   [0.01,0.01],    -30, 3, 50]\n",
    "         ]"
   ]
  },
  {
   "cell_type": "code",
   "execution_count": 24,
   "metadata": {
    "colab": {},
    "colab_type": "code",
    "id": "R7K9yjZCr6zN",
    "outputId": "ef0bebc0-1337-4755-82d1-f4c91fa8d263"
   },
   "outputs": [
    {
     "data": {
      "image/png": "[encoded data removed]",
      "text/plain": [
       "<Figure size 432x288 with 1 Axes>"
      ]
     },
     "metadata": {
      "needs_background": "light"
     },
     "output_type": "display_data"
    }
   ],
   "source": [
    "# Create an interesting dataset\n",
    "train, test = CreateDataset(params)\n",
    "ClassPlot(train[0], train[1]);"
   ]
  },
  {
   "cell_type": "markdown",
   "metadata": {
    "colab_type": "text",
    "id": "Qre_m93utL_0"
   },
   "source": [
    "### 1.7.2 Create and Train a Neural Network"
   ]
  },
  {
   "cell_type": "code",
   "execution_count": 25,
   "metadata": {
    "colab": {},
    "colab_type": "code",
    "id": "1WEECzA5r6zO"
   },
   "outputs": [],
   "source": [
    "# Create a network that can solve the problem\n",
    "net = Network(sizes=[2, 128, 128, 4], type='classifier')"
   ]
  },
  {
   "cell_type": "code",
   "execution_count": 26,
   "metadata": {
    "colab": {},
    "colab_type": "code",
    "id": "6QkbB2aIr6zP"
   },
   "outputs": [],
   "source": [
    "train, test = CreateDataset(params)"
   ]
  },
  {
   "cell_type": "code",
   "execution_count": 27,
   "metadata": {
    "colab": {},
    "colab_type": "code",
    "id": "_XyQRlcpr6zP"
   },
   "outputs": [],
   "source": [
    "# Train and evaluate the model\n",
    "progress = net.SGD(train[0], train[1], epochs=400, lrate=0.1)"
   ]
  },
  {
   "cell_type": "markdown",
   "metadata": {
    "colab_type": "text",
    "id": "b_30GTzwtR7B"
   },
   "source": [
    "### 1.7.3 Evaluate Model"
   ]
  },
  {
   "cell_type": "code",
   "execution_count": 28,
   "metadata": {
    "colab": {},
    "colab_type": "code",
    "id": "Z9ncgeorr6zQ",
    "outputId": "9803f280-c54d-485c-f148-7aa10c0e7a5c"
   },
   "outputs": [
    {
     "name": "stdout",
     "output_type": "stream",
     "text": [
      "Training accurancy is 0.9337349397590361, test accurancy is 0.9084337349397591\n"
     ]
    }
   ],
   "source": [
    "# Classification accuracy on training and test datasets\n",
    "train_acc = net.ClassificationAccuracy(train[0], train[1])\n",
    "test_acc = net.ClassificationAccuracy(test[0], test[1])\n",
    "print(f\"Training accurancy is {train_acc}, test accurancy is {test_acc}\")"
   ]
  },
  {
   "cell_type": "code",
   "execution_count": 29,
   "metadata": {
    "colab": {},
    "colab_type": "code",
    "id": "_XxbpVl0r6zR",
    "outputId": "32c50035-576e-4f84-9849-3c333cbbd963"
   },
   "outputs": [
    {
     "data": {
      "image/png": "[encoded data removed]",
      "text/plain": [
       "<Figure size 432x288 with 1 Axes>"
      ]
     },
     "metadata": {
      "needs_background": "light"
     },
     "output_type": "display_data"
    }
   ],
   "source": [
    "# Plot coloured clouds\n",
    "ClassPlot(test[0], net.FeedForward(test[0]));"
   ]
  },
  {
   "cell_type": "markdown",
   "metadata": {
    "colab_type": "text",
    "id": "KTz-xPa0xmnZ"
   },
   "source": [
    "## 1.8 Regularization"
   ]
  },
  {
   "cell_type": "markdown",
   "metadata": {
    "colab_type": "text",
    "id": "4CDQ4QJux2we"
   },
   "source": [
    "### 1.8.1 Modification of Network"
   ]
  },
  {
   "cell_type": "code",
   "execution_count": 37,
   "metadata": {
    "colab": {},
    "colab_type": "code",
    "id": "HNDXWeVLxo-l"
   },
   "outputs": [],
   "source": [
    "class RobustNetwork(Network):\n",
    "        \n",
    "    def BackProp(self, t, lrate=0.05, decay=0.):\n",
    "        '''\n",
    "            net.BackProp(targets, lrate=0.05, decay=0.)\n",
    "            \n",
    "            Given the current network state and targets t, updates the connection\n",
    "            weights and biases using the backpropagation algorithm.\n",
    "            \n",
    "            Inputs:\n",
    "             t      an array of targets (number of samples must match the\n",
    "                    network's output)\n",
    "             lrate  learning rate\n",
    "             decay  is the coefficient for weight/bias decay\n",
    "        '''\n",
    "            \n",
    "        t = np.array(t)  # convert t to an array, in case it's not\n",
    "\n",
    "        # Error gradient for top layer (same for both types)\n",
    "        dEdz = self.TopGradient(t)\n",
    "\n",
    "        # Loop down through the layers\n",
    "        # Start second-from-the-top, and go down to layer 0\n",
    "        for i in range(self.n_layers-2, -1, -1):\n",
    "            pre = self.lyr[i]\n",
    "\n",
    "            # Gradient w.r.t. weights\n",
    "            dEdW = pre.h.T @ dEdz\n",
    "            # NOTE: we will use L2 Norm\n",
    "            dEdW += 2 * decay * self.W[i]\n",
    "\n",
    "            # Gradient w.r.t. biases\n",
    "            dEdb = np.sum(dEdz, axis=0)\n",
    "            # NOTE: we will use L2 Norm\n",
    "            dEdb += 2 * decay * self.lyr[i+1].b\n",
    "            \n",
    "            # Use Sigma'\n",
    "            # Project error gradient down to layer below\n",
    "            dEdz = ( dEdz @ self.W[i].T ) * pre.sigma_p()\n",
    "\n",
    "            # Update weights and biases\n",
    "            self.W[i] -= lrate*dEdW\n",
    "            self.lyr[i+1].b -= lrate*dEdb\n",
    "            \n",
    "\n",
    "    \n",
    "    def SGD(self, inputs, targets, lrate=0.05, epochs=1, batch_size=10, decay=0):\n",
    "        '''\n",
    "            progress = net.SGD(inputs, targets, lrate=0.05, epochs=1, batch_size=10, decay=0)\n",
    "\n",
    "            Performs Stochastic Gradient Descent on the network.\n",
    "            Run through the dataset in batches 'epochs' number of times, incrementing the\n",
    "            network weights after each batch. For each epoch, it shuffles the dataset.\n",
    "\n",
    "            Inputs:\n",
    "              inputs  is an array of input samples\n",
    "              targets is a corresponding array of targets\n",
    "              lrate   is the learning rate (try 0.001 to 5)\n",
    "              epochs  is the number of times to go through the training data\n",
    "              batch_size is the number of samples for each batch\n",
    "              decay   is the decay coefficient for the weights and biases\n",
    "              \n",
    "            Outputs:\n",
    "              progress is an (epochs)x2 array with epoch in the first column, and \n",
    "                      cost in the second column\n",
    "        '''\n",
    "        loss_history = []\n",
    "        for k in range(epochs):\n",
    "            batches = MakeBatches(inputs, targets, batch_size=batch_size, shuffle=True)\n",
    "            for mini_batch in batches:\n",
    "                self.FeedForward(mini_batch[0])\n",
    "                self.BackProp(mini_batch[1], lrate=lrate, decay=decay)\n",
    "\n",
    "            loss_history.append([k, self.Evaluate(inputs, targets)])\n",
    "\n",
    "        return np.array(loss_history)"
   ]
  },
  {
   "cell_type": "markdown",
   "metadata": {
    "colab_type": "text",
    "id": "b4dCigyrx95Y"
   },
   "source": [
    "### 1.8.2 Create a Noise Dataset"
   ]
  },
  {
   "cell_type": "code",
   "execution_count": 38,
   "metadata": {
    "colab": {},
    "colab_type": "code",
    "id": "pMkx_OU5yCCz"
   },
   "outputs": [],
   "source": [
    "def GenerateDatasets(n, seed=None):\n",
    "    # 1D -> 1D (line mapping)\n",
    "    n_input = 1\n",
    "    n_output = 1\n",
    "    noise = 0.5\n",
    "\n",
    "    if seed:\n",
    "        np.random.seed(seed)\n",
    "    a = np.random.rand()\n",
    "    m = np.random.rand() + 0.5\n",
    "    b = np.random.rand()-0.5\n",
    "\n",
    "    def myfunc(x):\n",
    "        return a*x**2 + m*x + b\n",
    "\n",
    "    # Create a training dataset\n",
    "    n_samples = n\n",
    "    training_output = []\n",
    "    training_input = []\n",
    "    xv = np.linspace(-1, 1, n_samples)\n",
    "    for idx in range(n_samples):\n",
    "        #x = np.random.rand()*2. - 1.\n",
    "        x = xv[idx]\n",
    "        t = myfunc(x) + np.random.normal(scale=noise)\n",
    "        training_input.append(np.array([x]))\n",
    "        training_output.append(np.array([t]))\n",
    "\n",
    "    # Create a testing dataset\n",
    "    test_input = []\n",
    "    test_output = []\n",
    "    n_test_samples = 300\n",
    "    xv = np.linspace(-1, 1, n_test_samples)\n",
    "    for idx in range(n_test_samples):\n",
    "        #x = np.random.rand()*2. - 1.\n",
    "        x = xv[idx] #+ np.random.normal(scale=0.1)\n",
    "        t = myfunc(x) + np.random.normal(scale=noise)\n",
    "        test_input.append(np.array([x]))\n",
    "        test_output.append(np.array([t]))\n",
    "\n",
    "\n",
    "    train = [np.array(training_input), np.array(training_output)]\n",
    "    test = [np.array(test_input), np.array(test_output)]\n",
    "    \n",
    "    return train, test"
   ]
  },
  {
   "cell_type": "code",
   "execution_count": 44,
   "metadata": {
    "colab": {},
    "colab_type": "code",
    "id": "aKxgGXQbyoGV"
   },
   "outputs": [],
   "source": [
    "# Generate the training and testing datasets\n",
    "P = 5\n",
    "train, test = GenerateDatasets(P)"
   ]
  },
  {
   "cell_type": "markdown",
   "metadata": {
    "colab_type": "text",
    "id": "SkL38LgkyG7n"
   },
   "source": [
    "### 1.8.3 Comparison between Net with and without Decay"
   ]
  },
  {
   "cell_type": "code",
   "execution_count": 45,
   "metadata": {
    "colab": {},
    "colab_type": "code",
    "id": "Ev9QDv-ZyGa4"
   },
   "outputs": [],
   "source": [
    "import copy\n",
    "# Create a RobustNetwork, using MSE and identity output\n",
    "original_net = RobustNetwork(sizes=[1,10,1], type='regression')\n",
    "decay_net = copy.deepcopy(original_net)"
   ]
  },
  {
   "cell_type": "code",
   "execution_count": 46,
   "metadata": {
    "colab": {},
    "colab_type": "code",
    "id": "mZ6PgfHSyvwa"
   },
   "outputs": [
    {
     "name": "stdout",
     "output_type": "stream",
     "text": [
      "========== Net without Decay ==========\n",
      "Final training loss is 0.0023692955196126277\n",
      "Test loss is 0.11933261606930787\n"
     ]
    }
   ],
   "source": [
    "# For Original Net\n",
    "print(\"=\"*10 + \" Net without Decay \" + \"=\"*10)\n",
    "loss_history = original_net.SGD(inputs=train[0], targets=train[1], lrate=0.1, epochs=5000, batch_size=5, decay=0.)\n",
    "print(f\"Final training loss is {loss_history[-1][-1]}\")\n",
    "test_loss = original_net.Evaluate(inputs=test[0], targets=test[1])\n",
    "print(f\"Test loss is {test_loss}\")"
   ]
  },
  {
   "cell_type": "code",
   "execution_count": 47,
   "metadata": {
    "colab": {},
    "colab_type": "code",
    "id": "Pw_jkVTDy-Q8"
   },
   "outputs": [
    {
     "name": "stdout",
     "output_type": "stream",
     "text": [
      "========== Net with Decay ==========\n",
      "Final training loss is 0.07013880103222192\n",
      "Test loss is 0.15603876485270143\n"
     ]
    }
   ],
   "source": [
    "# For Decay Net\n",
    "print(\"=\"*10 + \" Net with Decay \" + \"=\"*10)\n",
    "loss_history = decay_net.SGD(inputs=train[0], targets=train[1], lrate=0.1, epochs=5000, batch_size=5, decay=0.01)\n",
    "print(f\"Final training loss is {loss_history[-1][-1]}\")\n",
    "test_loss = decay_net.Evaluate(inputs=test[0], targets=test[1])\n",
    "print(f\"Test loss is {test_loss}\")"
   ]
  },
  {
   "cell_type": "code",
   "execution_count": 48,
   "metadata": {
    "colab": {},
    "colab_type": "code",
    "id": "CfpBKOBCzJcX"
   },
   "outputs": [
    {
     "data": {
      "text/plain": [
       "[<matplotlib.lines.Line2D at 0x7fac70774f50>]"
      ]
     },
     "execution_count": 48,
     "metadata": {},
     "output_type": "execute_result"
    },
    {
     "data": {
      "image/png": "[encoded data removed]",
      "text/plain": [
       "<Figure size 432x288 with 1 Axes>"
      ]
     },
     "metadata": {
      "needs_background": "light"
     },
     "output_type": "display_data"
    }
   ],
   "source": [
    "# Plot Training and Test data\n",
    "# we plot test set first in case it cover points in training set\n",
    "plt.plot(test[0], test[1], 'yo')\n",
    "plt.plot(train[0], train[1], 'bo')\n",
    "plt.xlabel('Input'); plt.ylabel('Output');\n",
    "\n",
    "# Plot original_net and dropout_net models\n",
    "xv = np.linspace(-1, 1, 100)\n",
    "yv = [original_net.FeedForward([xx]) for xx in xv]\n",
    "plt.plot(xv, yv, 'b--')\n",
    "\n",
    "xv = np.linspace(-1, 1, 100)\n",
    "yv = [decay_net.FeedForward([xx]) for xx in xv]\n",
    "plt.plot(xv, yv, 'r--')"
   ]
  },
  {
   "cell_type": "markdown",
   "metadata": {
    "colab_type": "text",
    "id": "xEbiC4xfzNjN"
   },
   "source": [
    "### 1.8.4 Average Performance"
   ]
  },
  {
   "cell_type": "code",
   "execution_count": 49,
   "metadata": {
    "colab": {},
    "colab_type": "code",
    "id": "ny5EYLz0zPuw"
   },
   "outputs": [],
   "source": [
    "# Loop for 10 trials\n",
    "trials = 10\n",
    "\n",
    "original_train_losses = []\n",
    "decay_train_losses = []\n",
    "original_test_losses = []\n",
    "decay_test_losses = []\n",
    "\n",
    "for k in range(trials):\n",
    "\n",
    "    original_net = RobustNetwork(sizes=[1,10,1], type='regression')\n",
    "    decay_net = copy.deepcopy(original_net)\n",
    "    \n",
    "    P = 5\n",
    "    train, test = GenerateDatasets(P)\n",
    "    \n",
    "    # training without weight decay\n",
    "    original_train_loss = original_net.SGD(inputs=train[0], targets=train[1], lrate=0.1, epochs=5000, batch_size=5, decay=0.)\n",
    "    original_test_loss = original_net.Evaluate(inputs=test[0], targets=test[1])\n",
    "    original_train_losses.append(original_train_loss[-1][-1])\n",
    "    original_test_losses.append(original_test_loss)\n",
    "\n",
    "    # training with weight decay\n",
    "    decay_train_loss = decay_net.SGD(inputs=train[0], targets=train[1],  lrate=0.1, epochs=5000, batch_size=5, decay=0.01)\n",
    "    decay_test_loss = decay_net.Evaluate(inputs=test[0], targets=test[1])\n",
    "    decay_train_losses.append(decay_train_loss[-1][-1])\n",
    "    decay_test_losses.append(decay_test_loss)"
   ]
  },
  {
   "cell_type": "code",
   "execution_count": 50,
   "metadata": {
    "colab": {},
    "colab_type": "code",
    "id": "Eqi5Z0-1zRlC"
   },
   "outputs": [
    {
     "name": "stdout",
     "output_type": "stream",
     "text": [
      "Training set, without decay,   cost = 0.030749154190560523\n",
      "Training set, with decay=0.01, cost = 0.09279066964959083\n",
      "Test set,     without decay,   cost = 0.16768192147009384\n",
      "Test set,     with decay=0.01, cost = 0.15226195781126883\n"
     ]
    }
   ],
   "source": [
    "# Compute the mean cost over the 10 trials\n",
    "\n",
    "orig_train, decay_train, orig_test, decay_test = np.average(original_train_losses), np.average(decay_train_losses), np.average(original_test_losses), np.average(decay_test_losses)\n",
    "\n",
    "print('Training set, without decay,   cost = '+str(orig_train))\n",
    "print('Training set, with decay=0.01, cost = '+str(decay_train))\n",
    "print('Test set,     without decay,   cost = '+str(orig_test))\n",
    "print('Test set,     with decay=0.01, cost = '+str(decay_test))"
   ]
  }
 ],
 "metadata": {
  "colab": {
   "collapsed_sections": [],
   "name": "Deep Neural Network.ipynb",
   "provenance": [],
   "toc_visible": true
  },
  "kernelspec": {
   "display_name": "Python 3",
   "language": "python",
   "name": "python3"
  },
  "language_info": {
   "codemirror_mode": {
    "name": "ipython",
    "version": 3
   },
   "file_extension": ".py",
   "mimetype": "text/x-python",
   "name": "python",
   "nbconvert_exporter": "python",
   "pygments_lexer": "ipython3",
   "version": "3.7.4"
  },
  "toc": {
   "nav_menu": {},
   "number_sections": true,
   "sideBar": true,
   "skip_h1_title": false,
   "title_cell": "Table of Contents",
   "title_sidebar": "Contents",
   "toc_cell": false,
   "toc_position": {},
   "toc_section_display": true,
   "toc_window_display": false
  }
 },
 "nbformat": 4,
 "nbformat_minor": 1
}
