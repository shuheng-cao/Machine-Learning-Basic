{
 "cells": [
  {
   "cell_type": "code",
   "execution_count": 8,
   "metadata": {
    "code_folding": []
   },
   "outputs": [],
   "source": [
    "# Standard imports\n",
    "import numpy as np\n",
    "import matplotlib.pyplot as plt\n",
    "import matplotlib.cm as cm\n",
    "import scipy.stats as stats\n",
    "import math\n",
    "import itertools\n",
    "%matplotlib inline"
   ]
  },
  {
   "cell_type": "markdown",
   "metadata": {},
   "source": [
    "## 1.1 Mathematical Derivation"
   ]
  },
  {
   "cell_type": "markdown",
   "metadata": {},
   "source": [
    "Assume that we have $X=\\begin{bmatrix}  \n",
    "\t\\mathbf x_{1}&\\mathbf x_{2}&\\cdots&\\mathbf x_{N}\n",
    "\\end{bmatrix}\\in \\mathbb{R}^{M\\times N}$ and $t_{1},\\cdots,t_{N}\\in\\{-1,1\\}$ as our input data and targets. On top of that, our ultimate goal is to $\\textbf{maximize the margin} $.\n",
    "\n",
    "We will start with $\\textbf{hard margin} $ (i.e. linearly separable data) and $\\textbf{linear kernel} $. Since the data is linearly separable, we have at least one choice of $\\mathbf w$ and $b$ such that $y(\\mathbf x_{i})>0$ for $t_{i}=1$ and $y(\\mathbf x_{i})<0$ for $t_{i}=-1$. In another word, $t_{i}y(\\mathbf x_{i})>0,\\, \\forall i$ where $y(\\mathbf x_{i}) = \\mathbf w\\cdot\\mathbf x_{i}+b$. Notice that by scaling $\\mathbf w$ and $b$, we can easily manipulate the inequalities into $t_{i}y(x_{i})\\geq 1,\\, \\forall i$.\n",
    "\n",
    "Now, recall that the distance between a point $\\mathbf x_{i}$ and a hyperplane $\\mathbf w\\cdot \\mathbf x+b=0$ can be expressed as follows:\n",
    "\n",
    "\\begin{align*}\n",
    "\td&=\\|proj_{\\mathbf w}(\\mathbf x_{i}-\\mathbf x^{*})\\| = \\left \\|\\frac{(\\mathbf x_{i}-\\mathbf x^{*})\\cdot \\mathbf w}{\\mathbf w\\mathbf w}\\cdot \\mathbf w\\right \\| = \\|\\mathbf x_{i} \\cdot\\mathbf w-\\mathbf x^{*} \\cdot\\mathbf w\\| \\cdot \\frac{\\|\\mathbf w\\|}{\\|\\mathbf w\\|^{2}} = \\frac{\\|\\mathbf w\\cdot\\mathbf x_{i}+b\\|}{\\|\\mathbf w\\|}\n",
    "\\end{align*}\n",
    "\n",
    "where $\\mathbf x^{*}$ is a point on the hyperplane such that $\\mathbf x_{i}-\\mathbf x^{*}$ is perpendicular to the hyperplane.\n",
    "\n",
    "Therefore, the maximum margin solution is found by solving $arg\\max_{\\mathbf w,b} \\left \\{\\frac{1}{\\|\\mathbf w\\|}\\min_{i}\\big[t_{i}(\\mathbf w^{T}\\mathbf x_{i}+b)\\big]\\right \\}$.\n",
    "\n",
    "As stated before, we have the constraint that $t_{i}y(x_{i}) = t_{i}(\\mathbf w^{T}\\mathbf x_{i}+b) \\geq 1$ and thus, our objective function becomes\n",
    "\n",
    "\\begin{align*}\n",
    "\t\\min \\frac{1}{\\|\\mathbf w\\|} \\hspace{10mm}\\text{ such that } \\hspace{10mm}t_{i}y(x_{i})\\geq 1\n",
    "\\end{align*}\n",
    "\n",
    "which is equivalent to \n",
    "\n",
    "\\begin{align*}\n",
    "\t\\max \\frac{1}{2}\\|\\mathbf w\\|^{2} \\hspace{10mm}\\text{ such that } \\hspace{10mm}t_{i}y(x_{i})\\geq 1\t\n",
    "\\end{align*}\n",
    "\n",
    "Now, by introducing the $\\textbf{Lagrange Multiplier } \\alpha_{i}$ for every constraints, we have the following:\n",
    "\n",
    "\\begin{align*}\n",
    "\t\\mathcal L = \\frac{1}{2}\\|\\mathbf w\\|^{2} - \\sum_{i=1}^{N}\\alpha_{i}\\big[t_{i}(\\mathbf w\\cdot \\mathbf x_{i}+b)-1\\big]\n",
    "\\end{align*}\n",
    "\n",
    "Taking derive with respect to $ \\mathbf w $ and $b$ and setting derivatives to zero gives us:\n",
    "\n",
    "\\begin{align*}\n",
    "\t\\mathbf w &= \\sum_{i=1}^{N}\\alpha_{i}t_{i}\\mathbf x_{i}\\\\\n",
    "\t\\sum_{i=1}^{N} \\alpha_{i}t_{i} &= 0\n",
    "\\end{align*}\n",
    "\n",
    "Now, plugging it back to $\\mathcal L$ gives us:\n",
    "\n",
    "\\begin{align*}\n",
    "\t\\mathcal L &= \\frac{1}{2}\\|\\mathbf w\\|^{2} - \\sum_{i=1}^{N}\\alpha_{i}\\big[t_{i}(\\mathbf w\\cdot \\mathbf x_{i}+b)-1\\big]\\\\\n",
    "\t&= \\frac{1}{2}\\left (\\sum_{i=1}^{N}\\alpha_{i}t_{i}\\mathbf x_{i}\\right )\\left (\\sum_{j=1}^{N}\\alpha_{j}t_{j}\\mathbf x_{j}\\right ) - \\sum_{i=1}^{N}\\alpha_{i}t_{i}\\mathbf w\\cdot \\mathbf x_{i}-\\sum_{i=1}^{N}\\alpha_{i}t_{i}b+\\sum_{i=1}^{N}\\alpha_{i}\\\\\n",
    "\t&= \\frac{1}{2}\\sum_{i=1}^{N}\\sum_{j=1}^{N} \\alpha_{i}\\alpha_{j}t_{i}t_{j}\\mathbf x_{i}\\cdot \\mathbf x_{j} - \\sum_{i=1}^{N}\\sum_{j=1}^{N} \\alpha_{i}\\alpha_{j}t_{i}t_{j}\\mathbf x_{i}\\cdot\\mathbf x_{j} - 0 + \\sum_{i=1}^{N} \\alpha_{i}\\\\\n",
    "\t&= \\sum_{i=1}^{N} \\alpha_{i}- \\frac{1}{2} \\sum_{i=1}^{N}\\sum_{j=1}^{N} \\alpha_{i}\\alpha_{j}t_{i}t_{j}\\mathbf x_{i}\\cdot \\mathbf x_{j} \n",
    "\\end{align*}\n",
    "\n",
    "Thus, our objective function now becomes:\n",
    "\n",
    "\\begin{align*}\n",
    "\t\\max_{\\alpha} \\sum_{i=1}^{N} \\alpha_{i}- \\frac{1}{2} \\sum_{i=1}^{N}\\sum_{j=1}^{N} \\alpha_{i}\\alpha_{j}t_{i}t_{j}\\mathbf x_{i}\\cdot\\mathbf x_{j}\\hspace{10mm}\\text{ such that } \\hspace{10mm}\\alpha_{i}\\geq 0,\\, \\sum_{i=1}^{N}\\alpha_{i}t_{i} = 0\n",
    "\\end{align*}\n",
    "\n",
    "Now, we will introducing $\\textbf{Non-linear Kernel}$ and $\\textbf{Soft-margin SVM}$ to our objective function.\n",
    "\n",
    "* For $\\textbf{Non-linear Kernel}$, we can simply replace $\\mathbf x_{i}\\cdot \\mathbf x_{j}$ with $k(\\mathbf x_{i}, \\mathbf x_{j})$.\n",
    "\n",
    "* For $\\textbf{Soft-margin SVM}$, we need to add slack variables $z_{1},\\cdots,z_{N}$ from the beginning. More precisely, our original objective function will become:\n",
    "\n",
    "\\begin{align*}\n",
    "\t\\min \\frac{1}{\\|\\mathbf w\\|}+C\\cdot \\sum_{i=1}^{N}z_{i}\\hspace{10mm}\\text{ such that } \\hspace{10mm}t_{i}y(x_{i})\\geq 1-z_{i}\n",
    "\\end{align*}\n",
    "\n",
    "And after some calculation, we will end up with the following:\n",
    "\n",
    "\\begin{align*}\n",
    "\t\\max_{\\alpha} \\sum_{i=1}^{N} \\alpha_{i}- \\frac{1}{2} \\sum_{i=1}^{N}\\sum_{j=1}^{N} \\alpha_{i}\\alpha_{j}t_{i}t_{j}k(\\mathbf x_{i},\\mathbf x_{j}) \\hspace{10mm}\\text{ such that } \\hspace{10mm} 0\\leq \\alpha_{i}\\leq C,\\, \\sum_{i=1}^{N}\\alpha_{i}t_{i} = 0\n",
    "\\end{align*}\n",
    "\n",
    "At last, in order to use the $\\textit{cvxopt} $ library, we must convert our objective function into the following form:\n",
    "\n",
    "\\begin{align*}\n",
    "\t\\min_{\\mathbf a}\\frac{1}{2}\\mathbf a^{T}P \\mathbf a+  \\mathbf q^{T}\\mathbf a \\hspace{10mm}\\text{ such that } \\hspace{10mm}G\\mathbf a \\leq \\mathbf h \\text{ and }A\\mathbf a=\\mathbf b\n",
    "\\end{align*}\n",
    "\n",
    "Thus, by manipulating our objective function, we will have the following\n",
    "\n",
    "\\begin{align*}\n",
    "\t\\mathbf a &= \\begin{bmatrix}  \n",
    "\t\t\\alpha_{1}&\\cdots&\\alpha_{N}\n",
    "\t\\end{bmatrix}^{T}\\\\\n",
    "\tP &= \\mathbf t k(\\mathbf x_{i}, \\mathbf x_{j}) \\mathbf t^{T}\\\\\n",
    "\t\\mathbf q &= -\\mathbb 1\\in \\mathbb{R}^{N}\\\\\n",
    "\tG &= \\begin{bmatrix}  \n",
    "\t\tdiag(-\\mathbb 1)\\\\\n",
    "\t\tdiag(\\mathbb 1)\n",
    "\t\\end{bmatrix} \\in \\mathbb{R}^{2N\\times N}\\\\\n",
    "\t\\mathbf h &= \\begin{bmatrix}\n",
    "\t\t\\mathbb O\\\\\n",
    "\t\t\\mathbb C\\\\\n",
    "\t\\end{bmatrix}\\in\\mathbb{R}^{2N}\\\\\n",
    "\tA &= \\mathbf t^{T}\\\\\n",
    "\t\\mathbf b &= 0\n",
    "\\end{align*}\n"
   ]
  },
  {
   "cell_type": "markdown",
   "metadata": {},
   "source": [
    "## 1.2 Implementation"
   ]
  },
  {
   "cell_type": "code",
   "execution_count": 21,
   "metadata": {},
   "outputs": [],
   "source": [
    "class Kernel(object):\n",
    "    @staticmethod\n",
    "    def linear():\n",
    "        return lambda x, y: np.inner(x, y)\n",
    "\n",
    "    @staticmethod\n",
    "    def gaussian(sigma):\n",
    "        return lambda x, y: np.exp(-np.sqrt(np.linalg.norm(x-y) ** 2 / (2 * sigma ** 2)))"
   ]
  },
  {
   "cell_type": "code",
   "execution_count": 48,
   "metadata": {},
   "outputs": [],
   "source": [
    "import cvxopt.solvers\n",
    "# multiplier larger than this value will be treated as non-zero\n",
    "MIN_SUPPORT_VECTOR_MULTIPLIER = 1e-5 \n",
    "\n",
    "class SVM(object):\n",
    "    def __init__(self, kernel, C):\n",
    "        # for training\n",
    "        self.kernel = kernel\n",
    "        self.C = C\n",
    "        # for predicting\n",
    "        self.bias = None\n",
    "        self.weights = None\n",
    "        self.support_vectors = None\n",
    "        self.support_vector_labels = None\n",
    "\n",
    "    def train(self, X, y):\n",
    "        \"\"\"Given the training features X with labels y, returns a SVM\n",
    "        predictor representing the trained SVM.\n",
    "        \"\"\"\n",
    "        lagrange_multipliers = self._compute_multipliers(X, y)\n",
    "        support_vector_indices = lagrange_multipliers > MIN_SUPPORT_VECTOR_MULTIPLIER\n",
    "        \n",
    "        # we will calculate bias term later\n",
    "        # according to http://www.cs.cmu.edu/~guestrin/Class/10701-S07/Slides/kernels.pdf\n",
    "        # we should have bias = y_k - \\sum z_i y_i  K(x_k, x_i)\n",
    "        self.bias = 0.0\n",
    "        self.weights = lagrange_multipliers[support_vector_indices]\n",
    "        self.support_vectors = X[support_vector_indices]\n",
    "        self.support_vector_labels = y[support_vector_indices]\n",
    "        self.bias = np.mean([y_k - self.predict(x_k) for (y_k, x_k) in zip(self.support_vector_labels, self.support_vectors)])\n",
    "        \n",
    "    def predict(self, x):\n",
    "        \"\"\"\n",
    "        Computes the SVM prediction on the given features x.\n",
    "        \"\"\"\n",
    "        result = self.bias\n",
    "        for z_i, x_i, y_i in zip(self.weights, self.support_vectors, self.support_vector_labels):\n",
    "            result += z_i * y_i * self.kernel(x_i, x)\n",
    "        return np.sign(result).item()\n",
    "\n",
    "    def _gram_matrix(self, X):\n",
    "        n_samples, n_features = X.shape\n",
    "        K = np.zeros((n_samples, n_samples))\n",
    "\n",
    "        for i, x_i in enumerate(X):\n",
    "            for j, x_j in enumerate(X):\n",
    "                K[i, j] = self.kernel(x_i, x_j)\n",
    "        return K\n",
    "\n",
    "    def _compute_multipliers(self, X, y):\n",
    "        n_samples, n_features = X.shape\n",
    "        K = self._gram_matrix(X)\n",
    "        \n",
    "        # we will use the formula we derived eariler\n",
    "        P = cvxopt.matrix(np.outer(y, y) * K)\n",
    "        q = cvxopt.matrix(-1 * np.ones(n_samples))\n",
    "\n",
    "        G_std = cvxopt.matrix(np.diag(np.ones(n_samples) * -1))\n",
    "        h_std = cvxopt.matrix(np.zeros(n_samples))\n",
    "\n",
    "        G_slack = cvxopt.matrix(np.diag(np.ones(n_samples)))\n",
    "        h_slack = cvxopt.matrix(np.ones(n_samples) * self.C)\n",
    "\n",
    "        G = cvxopt.matrix(np.vstack((G_std, G_slack)))\n",
    "        h = cvxopt.matrix(np.vstack((h_std, h_slack)))\n",
    "\n",
    "        A = cvxopt.matrix(y, (1, n_samples))\n",
    "        b = cvxopt.matrix(0.0)\n",
    "\n",
    "        solution = cvxopt.solvers.qp(P, q, G, h, A, b)\n",
    "\n",
    "        # Lagrange multipliers\n",
    "        return np.ravel(solution['x'])"
   ]
  },
  {
   "cell_type": "markdown",
   "metadata": {},
   "source": [
    "## 1.3 Examples"
   ]
  },
  {
   "cell_type": "code",
   "execution_count": 57,
   "metadata": {},
   "outputs": [],
   "source": [
    "def plot(svm, X, y, grid_size):\n",
    "    x_min, x_max = X[:, 0].min() - 1, X[:, 0].max() + 1\n",
    "    y_min, y_max = X[:, 1].min() - 1, X[:, 1].max() + 1\n",
    "    xx, yy = np.meshgrid(np.linspace(x_min, x_max, grid_size),\n",
    "                         np.linspace(y_min, y_max, grid_size),\n",
    "                         indexing='ij')\n",
    "    flatten = lambda m: np.array(m).reshape(-1,)\n",
    "\n",
    "    result = []\n",
    "    for (i, j) in itertools.product(range(grid_size), range(grid_size)):\n",
    "        point = np.array([xx[i, j], yy[i, j]]).reshape(1, 2)\n",
    "        result.append(svm.predict(point))\n",
    "\n",
    "    Z = np.array(result).reshape(xx.shape)\n",
    "\n",
    "    plt.contourf(xx, yy, Z,\n",
    "                 cmap=cm.Paired,\n",
    "                 levels=[-0.001, 0.001],\n",
    "                 extend='both',\n",
    "                 alpha=0.8)\n",
    "    \n",
    "    x1 = flatten(X[:, 0])\n",
    "    x2 = flatten(X[:, 1])\n",
    "    y = flatten(y)\n",
    "    plt.scatter(x1[y<0], x2[y<0], marker=\"x\")\n",
    "    plt.scatter(x1[y>0], x2[y>0], marker=\"o\")\n",
    "    plt.xlim(x_min, x_max)\n",
    "    plt.ylim(y_min, y_max)\n",
    "    plt.show()"
   ]
  },
  {
   "cell_type": "code",
   "execution_count": 92,
   "metadata": {},
   "outputs": [],
   "source": [
    "def example(num_samples=10, num_features=2, grid_size=20, kernel=Kernel.linear()):\n",
    "    samples = np.matrix(np.random.normal(size=num_samples * num_features).reshape(num_samples, num_features))\n",
    "    labels = 2 * (samples.sum(axis=1) > 0) - 1.0\n",
    "    \n",
    "    # add some noise to test soft-margin\n",
    "    noise = np.matrix(np.random.normal(size=num_samples * num_features).reshape(num_samples, num_features))*0.2\n",
    "    samples += noise\n",
    "    \n",
    "    svm = SVM(kernel, 0.1)\n",
    "    svm.train(samples, labels)\n",
    "    plot(svm, samples, labels, grid_size)"
   ]
  },
  {
   "cell_type": "code",
   "execution_count": 93,
   "metadata": {},
   "outputs": [
    {
     "name": "stdout",
     "output_type": "stream",
     "text": [
      "     pcost       dcost       gap    pres   dres\n",
      " 0: -9.1406e+00 -9.3269e+00  3e+02  2e+01  7e-16\n",
      " 1: -1.7893e+00 -8.7804e+00  1e+01  5e-01  6e-16\n",
      " 2: -1.5820e+00 -3.3595e+00  2e+00  1e-16  3e-16\n",
      " 3: -1.9361e+00 -2.2194e+00  3e-01  1e-16  3e-16\n",
      " 4: -2.0486e+00 -2.0929e+00  4e-02  1e-16  2e-16\n",
      " 5: -2.0640e+00 -2.0727e+00  9e-03  1e-16  2e-16\n",
      " 6: -2.0678e+00 -2.0693e+00  2e-03  1e-16  3e-16\n",
      " 7: -2.0685e+00 -2.0685e+00  2e-05  2e-16  3e-16\n",
      " 8: -2.0685e+00 -2.0685e+00  2e-07  2e-16  3e-16\n",
      "Optimal solution found.\n"
     ]
    },
    {
     "data": {
      "image/png": "[encoded data removed]",
      "text/plain": [
       "<Figure size 432x288 with 1 Axes>"
      ]
     },
     "metadata": {
      "needs_background": "light"
     },
     "output_type": "display_data"
    }
   ],
   "source": [
    "example(num_samples=50, grid_size=128)"
   ]
  },
  {
   "cell_type": "code",
   "execution_count": 94,
   "metadata": {},
   "outputs": [
    {
     "name": "stdout",
     "output_type": "stream",
     "text": [
      "     pcost       dcost       gap    pres   dres\n",
      " 0: -1.1872e+01 -1.2192e+01  2e+02  1e+01  3e-16\n",
      " 1: -5.1228e+00 -9.8779e+00  1e+01  4e-01  5e-16\n",
      " 2: -4.2739e+00 -5.4290e+00  1e+00  2e-16  7e-16\n",
      " 3: -4.5395e+00 -4.5624e+00  2e-02  3e-16  3e-16\n",
      " 4: -4.5520e+00 -4.5522e+00  2e-04  2e-16  4e-16\n",
      " 5: -4.5521e+00 -4.5521e+00  2e-06  1e-16  3e-16\n",
      "Optimal solution found.\n"
     ]
    },
    {
     "data": {
      "image/png": "[encoded data removed]",
      "text/plain": [
       "<Figure size 432x288 with 1 Axes>"
      ]
     },
     "metadata": {
      "needs_background": "light"
     },
     "output_type": "display_data"
    }
   ],
   "source": [
    "example(num_samples=50, grid_size=128, kernel=Kernel.gaussian(0.2))"
   ]
  },
  {
   "cell_type": "code",
   "execution_count": 95,
   "metadata": {},
   "outputs": [
    {
     "name": "stdout",
     "output_type": "stream",
     "text": [
      "     pcost       dcost       gap    pres   dres\n",
      " 0: -7.6258e+00 -1.1020e+01  2e+02  1e+01  3e-16\n",
      " 1: -4.2691e+00 -9.4753e+00  1e+01  5e-01  4e-16\n",
      " 2: -3.5433e+00 -5.0179e+00  1e+00  2e-16  7e-16\n",
      " 3: -3.6521e+00 -3.9311e+00  3e-01  1e-16  4e-16\n",
      " 4: -3.7015e+00 -3.7371e+00  4e-02  1e-16  4e-16\n",
      " 5: -3.7138e+00 -3.7175e+00  4e-03  1e-16  4e-16\n",
      " 6: -3.7155e+00 -3.7157e+00  2e-04  2e-16  4e-16\n",
      " 7: -3.7156e+00 -3.7156e+00  9e-06  1e-16  3e-16\n",
      " 8: -3.7156e+00 -3.7156e+00  7e-07  1e-16  3e-16\n",
      "Optimal solution found.\n"
     ]
    },
    {
     "data": {
      "image/png": "[encoded data removed]",
      "text/plain": [
       "<Figure size 432x288 with 1 Axes>"
      ]
     },
     "metadata": {
      "needs_background": "light"
     },
     "output_type": "display_data"
    }
   ],
   "source": [
    "example(num_samples=50, grid_size=128, kernel=Kernel.gaussian(1))"
   ]
  }
 ],
 "metadata": {
  "anaconda-cloud": {},
  "kernelspec": {
   "display_name": "Python 3",
   "language": "python",
   "name": "python3"
  },
  "language_info": {
   "codemirror_mode": {
    "name": "ipython",
    "version": 3
   },
   "file_extension": ".py",
   "mimetype": "text/x-python",
   "name": "python",
   "nbconvert_exporter": "python",
   "pygments_lexer": "ipython3",
   "version": "3.7.4"
  }
 },
 "nbformat": 4,
 "nbformat_minor": 2
}
