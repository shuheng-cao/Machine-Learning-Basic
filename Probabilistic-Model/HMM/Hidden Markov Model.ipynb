{
 "cells": [
  {
   "cell_type": "code",
   "execution_count": 2,
   "metadata": {
    "code_folding": []
   },
   "outputs": [],
   "source": [
    "# Standard imports\n",
    "import numpy as np\n",
    "import matplotlib.pyplot as plt\n",
    "import scipy.stats as stats\n",
    "import math\n",
    "%matplotlib inline"
   ]
  },
  {
   "cell_type": "markdown",
   "metadata": {},
   "source": [
    "## This notebook will base on the following question:\n",
    "\n",
    "Each day, your friend Jack has one of three moods: happy, neutral, or unhappy. If he’s happy, there is a 20% chance of being unhappy the next day, and an equal chance of him being either happy or neutral the next day. If he’s neutral, there is a 60% chance of staying neutral, and 30% chance of becoming happy. If he’s unhappy, there is a 50% chance he’ll still be unhappy the next day, and a 30% chance of becoming neutral.\n",
    "\n",
    "Jack is away for the term, but you are in contact with him every day through a messaging app. You’ve noticed that if he is happy, he will reply to your message that day with 90% probability. If he is neutral, he has a 70% chance of replying, and if he is unhappy he will only reply with 20% probability.\n",
    "\n",
    "Thefollowingisthesequenceofreplies(R)andnoreplies(N)overtheprevious 25 days:\n",
    "\n",
    "$$[R,R,R,N,N,R,R,R,R,R,N,R,R,N,R,R,R,R,N,R,N,N,N,N,N]$$\n",
    "\n",
    "We will find\n",
    "\n",
    "1. The probability that Jack replies within 3 days using __forward recursion__.\n",
    "\n",
    "2. The most possible moods of Jack for the past 25 days using __viterbi algorithm__"
   ]
  },
  {
   "cell_type": "markdown",
   "metadata": {},
   "source": [
    "## 1.1 Model Visualization\n",
    "\n",
    "<img src=\"Model.png\">\n"
   ]
  },
  {
   "cell_type": "markdown",
   "metadata": {},
   "source": [
    "## 1.2 Forward Recursion\n",
    "\n",
    "\n",
    "\n",
    "\n",
    "For the forward recursion, we will use the following recurrence relationship:\n",
    "\n",
    "\\begin{align*}\n",
    "\t\\alpha(z_{n}) &= p(x_{1:n},z_{n}) = p(x_{n}\\mid z_{n}) \\sum_{z_{n-1}}\\alpha(z_{n-1})p(z_{n}\\mid z_{n-1})&& \\text{ for } n=2,\\cdots ,T\\\\\n",
    "\t\\alpha(z_{1}) &= p(x_{1},z_1)=p(z_{1})p(x_{1}\\mid z_{1})\n",
    "\\end{align*}\n",
    "\n",
    "Where $z_{i}$ are hidden states and $x_{i}$ are visible states. Using the forward recursion, we should be able to get $p(z_{n},x_{1:n})$ and in order to get the posterior distribution of $z_{n}$, all we need to do is to use the Bayes' Theorem:\n",
    "\n",
    "\\begin{align*}\n",
    "\tp(z_{n}\\mid x_{1:n}) = \\frac{p(z_{n},x_{1:n})}{p(x_{1:n})} = \\frac{\\alpha(z_{n})}{\\sum_{z_{n}}\\alpha(z_{n})}\n",
    "\\end{align*}\n",
    "\n",
    "## 1.2.1 Implementation\n"
   ]
  },
  {
   "cell_type": "code",
   "execution_count": 3,
   "metadata": {},
   "outputs": [],
   "source": [
    "def ForwardRecursion(z1, X, A, B):\n",
    "    \"\"\"\n",
    "    Inputs :\n",
    "        z1 :  An array sum to 1 representing the initial hidden states\n",
    "        X  :  An array of int of length N representing the observations \n",
    "        A  :  The transition matrix, whose row sum to 1\n",
    "        B  :  The emission matrix, whose row sum to 1\n",
    "    Outputs:\n",
    "        res:  The posterior for hidden state N\n",
    "    \"\"\"\n",
    "    # number of steps\n",
    "    N = len(X)\n",
    "    \n",
    "    # initialize p(x1, z1)\n",
    "    alpha = z1 * B.T[X[0]]\n",
    "    \n",
    "    for i in range(1, N):\n",
    "        alpha = B.T[X[i]] * np.dot(A.T, alpha)\n",
    "        \n",
    "    return alpha/np.sum(alpha)"
   ]
  },
  {
   "cell_type": "markdown",
   "metadata": {},
   "source": [
    "## 1.2.2 Calculate hidden states"
   ]
  },
  {
   "cell_type": "code",
   "execution_count": 24,
   "metadata": {},
   "outputs": [],
   "source": [
    "# Value initialization\n",
    "\n",
    "# we will assume the initial hidden states are uniform\n",
    "z1 = np.ones(3)/3\n",
    "A = np.array([[0.4, 0.4, 0.2], [0.3, 0.6, 0.1], [0.2, 0.3, 0.5]])\n",
    "B = np.array([[0.9, 0.1], [0.7, 0.3], [0.2, 0.8]])\n",
    "\n",
    "R = 0; N = 1 # since we have reply as column 1 and not reply as column 2\n",
    "X = np.array([R,R,R,N,N,R,R,R,R,R,N,R,R,N,R,R,R,R,N,R,N,N,N,N,N])"
   ]
  },
  {
   "cell_type": "markdown",
   "metadata": {},
   "source": [
    "## 1.2.3 Calculate visible states"
   ]
  },
  {
   "cell_type": "code",
   "execution_count": 25,
   "metadata": {},
   "outputs": [
    {
     "name": "stdout",
     "output_type": "stream",
     "text": [
      "Hidden states for today is [0.05420019 0.26415651 0.6816433 ]\n"
     ]
    }
   ],
   "source": [
    "z = ForwardRecursion(z1, X, A, B) # posterior distribution for *today's* hidden state\n",
    "print(f\"Hidden states for today is {z}\")"
   ]
  },
  {
   "cell_type": "code",
   "execution_count": 26,
   "metadata": {},
   "outputs": [
    {
     "name": "stdout",
     "output_type": "stream",
     "text": [
      "Hidden states for tomorrow is [0.23725569 0.38466697 0.37807734]\n",
      "Probability Jack will reply tomorrow is 0.5584124679825492\n"
     ]
    }
   ],
   "source": [
    "z_tmr = np.dot(A.T, z)\n",
    "x_tmr = np.dot(B.T, z_tmr)\n",
    "print(f\"Hidden states for tomorrow is {z_tmr}\")\n",
    "print(f\"Probability Jack will reply tomorrow is {x_tmr[0]}\")"
   ]
  },
  {
   "cell_type": "markdown",
   "metadata": {},
   "source": [
    "## 1.2.4 More Calculation\n",
    "\n",
    "For first question, we need to calculate $P(R \\text{ within three days})=1-P(x_{t+1}=N, x_{t+2}=N, x_{t+3}=N)$, where $P(x_{t})$ represents the visible states for today and $P(x_{t+1})$ for tomorrow etc. For sake of simplicity, let $\\bar{x} \\equiv (x=N)$ and we have\n",
    "\n",
    "\\begin{align*}\n",
    "\tP(x_{t+1}=N, x_{t+2}=N, x_{t+3}=N) &= \\sum_{z_{t},z_{t+1},z_{t+2},z_{t+3}}P(\\bar x_{t+1}, \\bar x_{t+2}, \\bar x_{t+3}, z_{t},z_{t+1},z_{t+2})\\\\\n",
    "\t&= \\sum_{z_{t:t+3}}P(\\bar x_{t+3}\\mid z_{t+3})P(z_{t+3}\\mid z_{t+2})P(\\bar x_{t+2}\\mid z_{t+2})P(z_{t+2}\\mid z_{t+1})P(\\bar x_{t+1}\\mid z_{t+1})P(z_{t+1}\\mid z_{t})P(z_{t})\\\\\n",
    "\t&= \\sum_{z_{t+3}} P(\\bar x_{t+3}\\mid z_{t+3}) \\sum_{z_{t+2}} P(z_{t+3}\\mid z_{t+2})P(\\bar x_{t+2}\\mid z_{t+2}) \\sum_{z_{t+1}}P(z_{t+2}\\mid z_{t+1})P(\\bar x_{t+1}\\mid z_{t+1})\\sum_{z_{t}}P(z_{t+1}\\mid z_{t})P(z_{t})\\\\\n",
    "\t&= \\sum B_{N}^{T}\\odot \\Big( A^{T} B_{N}^{T}\\odot \\big(A^{T}B_{N}^{T}\\odot (A^{T}P(z_{t}))\\big) \\Big)\n",
    "\\end{align*}\n",
    "\n",
    "Where $P(z_{t})$ is the mood distribution for today, $B_{N}\\in \\mathbb{R}^{3}$ is the probability of not replying given all three moods and $A\\in \\mathbb R^{3\\times 3}$ is the transition matrix, whose row sum to 1. \n",
    "\n",
    "We could actually summary this using a for loop. Let $h_{t+1} = B_{N}^{T}\\odot (A^{T}h_{t})$ with initial value $h_{0} = P(z_{t})$ and we can say that $P(x_{t+1}=N, x_{t+2}=N, x_{t+3}=N)=\\sum h_{3}$."
   ]
  },
  {
   "cell_type": "code",
   "execution_count": 27,
   "metadata": {},
   "outputs": [
    {
     "name": "stdout",
     "output_type": "stream",
     "text": [
      "The probablity that Jack replies in next three days is 0.9135623744495275\n"
     ]
    }
   ],
   "source": [
    "h = z\n",
    "\n",
    "for _ in range(3):\n",
    "    h = B.T[N] * (A.T @ h)\n",
    "\n",
    "no_reply = sum(h)\n",
    "print(f\"The probablity that Jack replies in next three days is {1-no_reply}\")"
   ]
  },
  {
   "cell_type": "markdown",
   "metadata": {},
   "source": [
    "## 1.3 Viterbi Algorithm\n",
    "\n",
    "Recall that for the Viterbi Algorithm, we have\n",
    "\n",
    "\n",
    "\\begin{align*}\n",
    "\t\\omega_{k}\\left (z_{k}\\right ) &= \\max_{z_{1:k-1}} p(z_{1:k}, x_{1:k})\\\\\n",
    "\t&= \\max_{z_{1:k-1}} p(x_{k}\\mid z_{k}) p(z_{k}\\mid z_{k-1}) p(z_{1:k-1},x_{1:k-1})\\\\\n",
    "\t&= \\max_{z_{k-1}} p(x_{k}\\mid z_{k}) p(z_{k}\\mid z_{k-1}) \\omega_{k-1}(z_{k-1})\\\\\n",
    "\\end{align*}\n",
    "\n",
    "With initial condition:\n",
    "\\begin{align*}\n",
    "\t\\omega_{1}(z_{1}) &= p(z_{1})p(x_{1}\\mid z_{1})\n",
    "\\end{align*}"
   ]
  },
  {
   "cell_type": "code",
   "execution_count": 29,
   "metadata": {},
   "outputs": [],
   "source": [
    "def viterbi(X, A, B, z1):    \n",
    "    T = len(X) # num of obeservations\n",
    "    M = len(A) # num of states\n",
    "    \n",
    "    # NOTE: we will use log scale to avoid underflow\n",
    "    omega = np.log(z1 * B.T[X[0]]) # init cond\n",
    "    # we will use prev to back track the hidden states\n",
    "    prev = []\n",
    "    \n",
    "    for i in range(1, T):\n",
    "        state = [0] * M\n",
    "        for j in range(M):\n",
    "            alpha = omega + np.log(A.T[j]) + np.log(B[j, X[i]])\n",
    "            state[j] = np.argmax(alpha)\n",
    "            omega[j] = np.max(alpha)\n",
    "        prev.append(state)\n",
    "    \n",
    "    print(prev)\n",
    "    path = [] # the path has reverse order\n",
    "    path.append(np.argmax(omega)) # append the last state\n",
    "    for i in range(T-2, -1, -1):\n",
    "        path.append(prev[i][path[-1]]) # backtrack\n",
    "    \n",
    "    return path[::-1]"
   ]
  },
  {
   "cell_type": "code",
   "execution_count": 30,
   "metadata": {},
   "outputs": [
    {
     "name": "stdout",
     "output_type": "stream",
     "text": [
      "[[0, 1, 2], [0, 1, 0], [0, 1, 2], [1, 1, 2], [1, 1, 2], [1, 1, 0], [1, 1, 0], [1, 1, 0], [1, 1, 0], [1, 1, 1], [1, 1, 0], [1, 1, 0], [1, 1, 1], [1, 1, 0], [1, 1, 0], [1, 1, 0], [1, 1, 0], [1, 1, 1], [1, 1, 0], [1, 1, 1], [1, 1, 2], [1, 1, 2], [1, 1, 2], [1, 1, 2]]\n"
     ]
    },
    {
     "data": {
      "text/plain": [
       "[1, 1, 1, 1, 1, 1, 1, 1, 1, 1, 1, 1, 1, 1, 1, 1, 1, 1, 1, 1, 2, 2, 2, 2, 2]"
      ]
     },
     "execution_count": 30,
     "metadata": {},
     "output_type": "execute_result"
    }
   ],
   "source": [
    "viterbi(X, A, B, z1)"
   ]
  }
 ],
 "metadata": {
  "anaconda-cloud": {},
  "kernelspec": {
   "display_name": "Python 3",
   "language": "python",
   "name": "python3"
  },
  "language_info": {
   "codemirror_mode": {
    "name": "ipython",
    "version": 3
   },
   "file_extension": ".py",
   "mimetype": "text/x-python",
   "name": "python",
   "nbconvert_exporter": "python",
   "pygments_lexer": "ipython3",
   "version": "3.7.4"
  }
 },
 "nbformat": 4,
 "nbformat_minor": 2
}
